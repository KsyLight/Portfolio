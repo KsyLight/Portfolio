version https://git-lfs.github.com/spec/v1
oid sha256:6315eb0a990429cb713184508a900f621c3ff522edb39ffae780a924f2d3dd98
size 1315374
