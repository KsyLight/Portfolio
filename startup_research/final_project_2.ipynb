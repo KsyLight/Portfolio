version https://git-lfs.github.com/spec/v1
oid sha256:ae55ab0a4e08535c55bb0c9d47eb49e5792ac988c915bb26143a9d6412d0579d
size 2051790
