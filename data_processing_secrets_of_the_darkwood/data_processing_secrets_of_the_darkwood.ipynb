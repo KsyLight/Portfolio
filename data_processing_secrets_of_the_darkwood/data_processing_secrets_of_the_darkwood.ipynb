{
 "cells": [
  {
   "cell_type": "markdown",
   "id": "e06910dd",
   "metadata": {
    "id": "e06910dd"
   },
   "source": [
    "# Обработка данных для команды игры \"Секреты Темнолесья\"\n",
    "\n",
    "- Автор: Василенко Егор\n",
    "- Дата: 22.12.2024"
   ]
  },
  {
   "cell_type": "markdown",
   "id": "4149134c",
   "metadata": {
    "id": "4149134c"
   },
   "source": [
    "### Цели и задачи проекта\n",
    "\n",
    "- Отобрать данные по времени выхода игры за период с 2000 по 2013 год включительно.\n",
    "- Категоризовать игры по оценкам пользователей и экспертов. Выделите три категории:\n",
    "  - высокая оценка — с оценкой от 8 до 10 и от 80 до 100, включая правые границы интервалов.\n",
    "  - средняя оценка — с оценкой от 3 до 8 и от 30 до 80, не включая правые границы интервалов.\n",
    "  - низкая оценка — с оценкой от 0 до 3 и от 0 до 30, не включая правые границы интервалов.\n",
    "- Выделить топ-7 платформ по количеству игр, выпущенных за весь требуемый период."
   ]
  },
  {
   "cell_type": "markdown",
   "id": "728986ea",
   "metadata": {
    "id": "728986ea"
   },
   "source": [
    "### Описание данных\n",
    "\n",
    "Данные `/datasets/new_games.csv` содержат информацию о продажах игр разных жанров и платформ, а также пользовательские и экспертные оценки игр:\n",
    "- `Name` — название игры.\n",
    "- `Platform` — название платформы.\n",
    "- `Year of Release` — год выпуска игры.\n",
    "- `Genre` — жанр игры.\n",
    "- `NA sales` — продажи в Северной Америке (в миллионах проданных копий).\n",
    "- `EU sales` — продажи в Европе (в миллионах проданных копий).\n",
    "- `JP sales` — продажи в Японии (в миллионах проданных копий).\n",
    "- `Other sales` — продажи в других странах (в миллионах проданных копий).\n",
    "- `Critic Score` — оценка критиков (от 0 до 100).\n",
    "- `User Score` — оценка пользователей (от 0 до 10).\n",
    "- `Rating` — рейтинг организации ESRB (англ. Entertainment Software Rating Board). Эта ассоциация определяет рейтинг компьютерных игр и присваивает им подходящую возрастную категорию."
   ]
  },
  {
   "cell_type": "markdown",
   "id": "4fecaf95",
   "metadata": {
    "id": "4fecaf95"
   },
   "source": [
    "<a class=\"anchor\" id=\"Содержание\"></a>\n",
    "### Содержимое проекта\n",
    "\n",
    "- [Загрузка данных и знакомство с ними](#Знакомство-с-данными)\n",
    "- [Обработка данных](#Обработка-данных)\n",
    "  - [Работа с типом данных | Часть 1](#Работа-с-типом-данных-ч1)\n",
    "  - [Работа с пропусками](#Работа-с-пропусками)\n",
    "  - [Работа с типом данных | Часть 2](#Работа-с-типом-данных-ч2)\n",
    "  - [Работа с дубликатами](#Работа-с-дубликатами)\n",
    "- [Фильтрация данных](#Фильтрация-данных)\n",
    "- [Категоризация данных](#Категоризация-данных)\n",
    "- [Итоговый вывод](#Итоговый-вывод)\n",
    "---"
   ]
  },
  {
   "cell_type": "markdown",
   "id": "6f7d21d6",
   "metadata": {
    "id": "6f7d21d6"
   },
   "source": [
    "<a class=\"anchor\" id=\"Знакомство-с-данными\"></a>\n",
    "## 1. Загрузка данных и знакомство с ними"
   ]
  },
  {
   "cell_type": "markdown",
   "id": "b26a7be0",
   "metadata": {
    "id": "ebb66dc5"
   },
   "source": [
    "### Загрузка библиотек"
   ]
  },
  {
   "cell_type": "code",
   "execution_count": 7,
   "id": "ce87c1db",
   "metadata": {
    "id": "ce87c1db"
   },
   "outputs": [],
   "source": [
    "# Загрузка библиотеки pandas\n",
    "import pandas as pd"
   ]
  },
  {
   "cell_type": "markdown",
   "id": "63581af9",
   "metadata": {
    "id": "90fee493"
   },
   "source": [
    "### Загрузка данных"
   ]
  },
  {
   "cell_type": "code",
   "execution_count": 9,
   "id": "487835a1",
   "metadata": {},
   "outputs": [
    {
     "ename": "FileNotFoundError",
     "evalue": "[Errno 2] No such file or directory: '/datasets/new_games.csv'",
     "output_type": "error",
     "traceback": [
      "\u001b[1;31m---------------------------------------------------------------------------\u001b[0m",
      "\u001b[1;31mFileNotFoundError\u001b[0m                         Traceback (most recent call last)",
      "Cell \u001b[1;32mIn[9], line 2\u001b[0m\n\u001b[0;32m      1\u001b[0m \u001b[38;5;66;03m# Загрузка файла формата .csv\u001b[39;00m\n\u001b[1;32m----> 2\u001b[0m data \u001b[38;5;241m=\u001b[39m pd\u001b[38;5;241m.\u001b[39mread_csv(\u001b[38;5;124m'\u001b[39m\u001b[38;5;124m/datasets/new_games.csv\u001b[39m\u001b[38;5;124m'\u001b[39m)\n",
      "File \u001b[1;32m~\\anaconda3\\Lib\\site-packages\\pandas\\io\\parsers\\readers.py:1026\u001b[0m, in \u001b[0;36mread_csv\u001b[1;34m(filepath_or_buffer, sep, delimiter, header, names, index_col, usecols, dtype, engine, converters, true_values, false_values, skipinitialspace, skiprows, skipfooter, nrows, na_values, keep_default_na, na_filter, verbose, skip_blank_lines, parse_dates, infer_datetime_format, keep_date_col, date_parser, date_format, dayfirst, cache_dates, iterator, chunksize, compression, thousands, decimal, lineterminator, quotechar, quoting, doublequote, escapechar, comment, encoding, encoding_errors, dialect, on_bad_lines, delim_whitespace, low_memory, memory_map, float_precision, storage_options, dtype_backend)\u001b[0m\n\u001b[0;32m   1013\u001b[0m kwds_defaults \u001b[38;5;241m=\u001b[39m _refine_defaults_read(\n\u001b[0;32m   1014\u001b[0m     dialect,\n\u001b[0;32m   1015\u001b[0m     delimiter,\n\u001b[1;32m   (...)\u001b[0m\n\u001b[0;32m   1022\u001b[0m     dtype_backend\u001b[38;5;241m=\u001b[39mdtype_backend,\n\u001b[0;32m   1023\u001b[0m )\n\u001b[0;32m   1024\u001b[0m kwds\u001b[38;5;241m.\u001b[39mupdate(kwds_defaults)\n\u001b[1;32m-> 1026\u001b[0m \u001b[38;5;28;01mreturn\u001b[39;00m _read(filepath_or_buffer, kwds)\n",
      "File \u001b[1;32m~\\anaconda3\\Lib\\site-packages\\pandas\\io\\parsers\\readers.py:620\u001b[0m, in \u001b[0;36m_read\u001b[1;34m(filepath_or_buffer, kwds)\u001b[0m\n\u001b[0;32m    617\u001b[0m _validate_names(kwds\u001b[38;5;241m.\u001b[39mget(\u001b[38;5;124m\"\u001b[39m\u001b[38;5;124mnames\u001b[39m\u001b[38;5;124m\"\u001b[39m, \u001b[38;5;28;01mNone\u001b[39;00m))\n\u001b[0;32m    619\u001b[0m \u001b[38;5;66;03m# Create the parser.\u001b[39;00m\n\u001b[1;32m--> 620\u001b[0m parser \u001b[38;5;241m=\u001b[39m TextFileReader(filepath_or_buffer, \u001b[38;5;241m*\u001b[39m\u001b[38;5;241m*\u001b[39mkwds)\n\u001b[0;32m    622\u001b[0m \u001b[38;5;28;01mif\u001b[39;00m chunksize \u001b[38;5;129;01mor\u001b[39;00m iterator:\n\u001b[0;32m    623\u001b[0m     \u001b[38;5;28;01mreturn\u001b[39;00m parser\n",
      "File \u001b[1;32m~\\anaconda3\\Lib\\site-packages\\pandas\\io\\parsers\\readers.py:1620\u001b[0m, in \u001b[0;36mTextFileReader.__init__\u001b[1;34m(self, f, engine, **kwds)\u001b[0m\n\u001b[0;32m   1617\u001b[0m     \u001b[38;5;28mself\u001b[39m\u001b[38;5;241m.\u001b[39moptions[\u001b[38;5;124m\"\u001b[39m\u001b[38;5;124mhas_index_names\u001b[39m\u001b[38;5;124m\"\u001b[39m] \u001b[38;5;241m=\u001b[39m kwds[\u001b[38;5;124m\"\u001b[39m\u001b[38;5;124mhas_index_names\u001b[39m\u001b[38;5;124m\"\u001b[39m]\n\u001b[0;32m   1619\u001b[0m \u001b[38;5;28mself\u001b[39m\u001b[38;5;241m.\u001b[39mhandles: IOHandles \u001b[38;5;241m|\u001b[39m \u001b[38;5;28;01mNone\u001b[39;00m \u001b[38;5;241m=\u001b[39m \u001b[38;5;28;01mNone\u001b[39;00m\n\u001b[1;32m-> 1620\u001b[0m \u001b[38;5;28mself\u001b[39m\u001b[38;5;241m.\u001b[39m_engine \u001b[38;5;241m=\u001b[39m \u001b[38;5;28mself\u001b[39m\u001b[38;5;241m.\u001b[39m_make_engine(f, \u001b[38;5;28mself\u001b[39m\u001b[38;5;241m.\u001b[39mengine)\n",
      "File \u001b[1;32m~\\anaconda3\\Lib\\site-packages\\pandas\\io\\parsers\\readers.py:1880\u001b[0m, in \u001b[0;36mTextFileReader._make_engine\u001b[1;34m(self, f, engine)\u001b[0m\n\u001b[0;32m   1878\u001b[0m     \u001b[38;5;28;01mif\u001b[39;00m \u001b[38;5;124m\"\u001b[39m\u001b[38;5;124mb\u001b[39m\u001b[38;5;124m\"\u001b[39m \u001b[38;5;129;01mnot\u001b[39;00m \u001b[38;5;129;01min\u001b[39;00m mode:\n\u001b[0;32m   1879\u001b[0m         mode \u001b[38;5;241m+\u001b[39m\u001b[38;5;241m=\u001b[39m \u001b[38;5;124m\"\u001b[39m\u001b[38;5;124mb\u001b[39m\u001b[38;5;124m\"\u001b[39m\n\u001b[1;32m-> 1880\u001b[0m \u001b[38;5;28mself\u001b[39m\u001b[38;5;241m.\u001b[39mhandles \u001b[38;5;241m=\u001b[39m get_handle(\n\u001b[0;32m   1881\u001b[0m     f,\n\u001b[0;32m   1882\u001b[0m     mode,\n\u001b[0;32m   1883\u001b[0m     encoding\u001b[38;5;241m=\u001b[39m\u001b[38;5;28mself\u001b[39m\u001b[38;5;241m.\u001b[39moptions\u001b[38;5;241m.\u001b[39mget(\u001b[38;5;124m\"\u001b[39m\u001b[38;5;124mencoding\u001b[39m\u001b[38;5;124m\"\u001b[39m, \u001b[38;5;28;01mNone\u001b[39;00m),\n\u001b[0;32m   1884\u001b[0m     compression\u001b[38;5;241m=\u001b[39m\u001b[38;5;28mself\u001b[39m\u001b[38;5;241m.\u001b[39moptions\u001b[38;5;241m.\u001b[39mget(\u001b[38;5;124m\"\u001b[39m\u001b[38;5;124mcompression\u001b[39m\u001b[38;5;124m\"\u001b[39m, \u001b[38;5;28;01mNone\u001b[39;00m),\n\u001b[0;32m   1885\u001b[0m     memory_map\u001b[38;5;241m=\u001b[39m\u001b[38;5;28mself\u001b[39m\u001b[38;5;241m.\u001b[39moptions\u001b[38;5;241m.\u001b[39mget(\u001b[38;5;124m\"\u001b[39m\u001b[38;5;124mmemory_map\u001b[39m\u001b[38;5;124m\"\u001b[39m, \u001b[38;5;28;01mFalse\u001b[39;00m),\n\u001b[0;32m   1886\u001b[0m     is_text\u001b[38;5;241m=\u001b[39mis_text,\n\u001b[0;32m   1887\u001b[0m     errors\u001b[38;5;241m=\u001b[39m\u001b[38;5;28mself\u001b[39m\u001b[38;5;241m.\u001b[39moptions\u001b[38;5;241m.\u001b[39mget(\u001b[38;5;124m\"\u001b[39m\u001b[38;5;124mencoding_errors\u001b[39m\u001b[38;5;124m\"\u001b[39m, \u001b[38;5;124m\"\u001b[39m\u001b[38;5;124mstrict\u001b[39m\u001b[38;5;124m\"\u001b[39m),\n\u001b[0;32m   1888\u001b[0m     storage_options\u001b[38;5;241m=\u001b[39m\u001b[38;5;28mself\u001b[39m\u001b[38;5;241m.\u001b[39moptions\u001b[38;5;241m.\u001b[39mget(\u001b[38;5;124m\"\u001b[39m\u001b[38;5;124mstorage_options\u001b[39m\u001b[38;5;124m\"\u001b[39m, \u001b[38;5;28;01mNone\u001b[39;00m),\n\u001b[0;32m   1889\u001b[0m )\n\u001b[0;32m   1890\u001b[0m \u001b[38;5;28;01massert\u001b[39;00m \u001b[38;5;28mself\u001b[39m\u001b[38;5;241m.\u001b[39mhandles \u001b[38;5;129;01mis\u001b[39;00m \u001b[38;5;129;01mnot\u001b[39;00m \u001b[38;5;28;01mNone\u001b[39;00m\n\u001b[0;32m   1891\u001b[0m f \u001b[38;5;241m=\u001b[39m \u001b[38;5;28mself\u001b[39m\u001b[38;5;241m.\u001b[39mhandles\u001b[38;5;241m.\u001b[39mhandle\n",
      "File \u001b[1;32m~\\anaconda3\\Lib\\site-packages\\pandas\\io\\common.py:873\u001b[0m, in \u001b[0;36mget_handle\u001b[1;34m(path_or_buf, mode, encoding, compression, memory_map, is_text, errors, storage_options)\u001b[0m\n\u001b[0;32m    868\u001b[0m \u001b[38;5;28;01melif\u001b[39;00m \u001b[38;5;28misinstance\u001b[39m(handle, \u001b[38;5;28mstr\u001b[39m):\n\u001b[0;32m    869\u001b[0m     \u001b[38;5;66;03m# Check whether the filename is to be opened in binary mode.\u001b[39;00m\n\u001b[0;32m    870\u001b[0m     \u001b[38;5;66;03m# Binary mode does not support 'encoding' and 'newline'.\u001b[39;00m\n\u001b[0;32m    871\u001b[0m     \u001b[38;5;28;01mif\u001b[39;00m ioargs\u001b[38;5;241m.\u001b[39mencoding \u001b[38;5;129;01mand\u001b[39;00m \u001b[38;5;124m\"\u001b[39m\u001b[38;5;124mb\u001b[39m\u001b[38;5;124m\"\u001b[39m \u001b[38;5;129;01mnot\u001b[39;00m \u001b[38;5;129;01min\u001b[39;00m ioargs\u001b[38;5;241m.\u001b[39mmode:\n\u001b[0;32m    872\u001b[0m         \u001b[38;5;66;03m# Encoding\u001b[39;00m\n\u001b[1;32m--> 873\u001b[0m         handle \u001b[38;5;241m=\u001b[39m \u001b[38;5;28mopen\u001b[39m(\n\u001b[0;32m    874\u001b[0m             handle,\n\u001b[0;32m    875\u001b[0m             ioargs\u001b[38;5;241m.\u001b[39mmode,\n\u001b[0;32m    876\u001b[0m             encoding\u001b[38;5;241m=\u001b[39mioargs\u001b[38;5;241m.\u001b[39mencoding,\n\u001b[0;32m    877\u001b[0m             errors\u001b[38;5;241m=\u001b[39merrors,\n\u001b[0;32m    878\u001b[0m             newline\u001b[38;5;241m=\u001b[39m\u001b[38;5;124m\"\u001b[39m\u001b[38;5;124m\"\u001b[39m,\n\u001b[0;32m    879\u001b[0m         )\n\u001b[0;32m    880\u001b[0m     \u001b[38;5;28;01melse\u001b[39;00m:\n\u001b[0;32m    881\u001b[0m         \u001b[38;5;66;03m# Binary mode\u001b[39;00m\n\u001b[0;32m    882\u001b[0m         handle \u001b[38;5;241m=\u001b[39m \u001b[38;5;28mopen\u001b[39m(handle, ioargs\u001b[38;5;241m.\u001b[39mmode)\n",
      "\u001b[1;31mFileNotFoundError\u001b[0m: [Errno 2] No such file or directory: '/datasets/new_games.csv'"
     ]
    }
   ],
   "source": [
    "# Загрузка файла формата .csv\n",
    "data = pd.read_csv('/datasets/new_games.csv')"
   ]
  },
  {
   "cell_type": "code",
   "execution_count": null,
   "id": "c62f1b50",
   "metadata": {},
   "outputs": [],
   "source": [
    "# Создание копии для обхода предупреждения, которое не помогло избежать всех предупреждений\n",
    "df = data.copy()"
   ]
  },
  {
   "cell_type": "markdown",
   "id": "14683ffe",
   "metadata": {},
   "source": [
    "### Знакомство с данными"
   ]
  },
  {
   "cell_type": "markdown",
   "id": "e0a8705f",
   "metadata": {
    "id": "e0a8705f"
   },
   "source": [
    "- Познакомьтесь с данными: выведите первые строки и результат метода `info()`.\n"
   ]
  },
  {
   "cell_type": "code",
   "execution_count": null,
   "id": "3937acf7",
   "metadata": {
    "id": "3937acf7"
   },
   "outputs": [],
   "source": [
    "df.head()"
   ]
  },
  {
   "cell_type": "code",
   "execution_count": null,
   "id": "d7c8eb4b",
   "metadata": {
    "id": "d7c8eb4b"
   },
   "outputs": [],
   "source": [
    "df.info()"
   ]
  },
  {
   "cell_type": "code",
   "execution_count": null,
   "id": "6635e530",
   "metadata": {},
   "outputs": [],
   "source": [
    "df.isna().sum()"
   ]
  },
  {
   "cell_type": "code",
   "execution_count": null,
   "id": "15a5af92",
   "metadata": {},
   "outputs": [],
   "source": [
    "total_rows_1 = df.shape[0]"
   ]
  },
  {
   "cell_type": "markdown",
   "id": "26267bc0",
   "metadata": {
    "id": "26267bc0"
   },
   "source": [
    "- Сделайте вывод о полученных данных: данные какого объёма вам предоставили, соответствуют ли они описанию, встречаются ли в них пропуски, используются ли верные типы данных.\n",
    "- Отметьте другие особенности данных, которые вы обнаружили и на которые стоит обратить внимание при предобработке. Например, вы можете проверить названия столбцов: все ли названия отражают содержимое данных и прописаны в удобном для работы виде."
   ]
  },
  {
   "cell_type": "markdown",
   "id": "7002411d",
   "metadata": {
    "id": "81651b8d"
   },
   "source": [
    "### Выводы по данным"
   ]
  },
  {
   "cell_type": "markdown",
   "id": "55bbd490",
   "metadata": {
    "id": "191981db"
   },
   "source": [
    "- Всего в датасете 16 956 строк и 11 столбцов.\n",
    "- Предоставленные данные соответствуют описанию, однако в части из них используются неверные типы данных:\n",
    "  - `Year of release` — нужен тип данных `datetime`\n",
    "  - `EU sales` — нужен тип данных `float`\n",
    "  - `JP sales` — нужен тип данных `float`\n",
    "  - `User Score` — нужен тип данных `float`\n",
    "  - `Rating` — нужен тип данных `float`\n",
    "  - `Critic score` — нужен тип данных `int` (на metacritic оценки целые, а это наверное оно)\n",
    "- В 6-ти столбцах датасета встречаются пропуски.\n",
    "- Названия столбцов стоит привести к единому стилу в соответствии с ТЗ, однако они отражают содержимое данных.\n",
    "\n",
    "[Вернуться к содержанию](#Содержание)"
   ]
  },
  {
   "cell_type": "markdown",
   "id": "e3812401",
   "metadata": {},
   "source": [
    "<font color='DarkBlue'><b>Комментарий ревьюера</b></font><br>\n",
    "<font color='DarkGreen'>👌 Хорошо, исследовали общую информацию о датасетах.</font>"
   ]
  },
  {
   "cell_type": "markdown",
   "id": "774bf76e",
   "metadata": {
    "id": "774bf76e"
   },
   "source": [
    "---\n",
    "<a class=\"anchor\" id=\"Обработка-данных\"></a>\n",
    "## 2.  Проверка ошибок в данных и их предобработка\n",
    "\n",
    "\n",
    "### 2.1. Названия, или метки, столбцов датафрейма\n",
    "\n",
    "- Выведите на экран названия всех столбцов датафрейма и проверьте их стиль написания.\n",
    "- Приведите все столбцы к стилю snake case. Названия должны быть в нижнем регистре, а вместо пробелов — подчёркивания."
   ]
  },
  {
   "cell_type": "code",
   "execution_count": null,
   "id": "b9276a2b",
   "metadata": {
    "id": "b9276a2b"
   },
   "outputs": [],
   "source": [
    "df.columns"
   ]
  },
  {
   "cell_type": "code",
   "execution_count": null,
   "id": "d554563c",
   "metadata": {
    "id": "d554563c"
   },
   "outputs": [],
   "source": [
    "# Приведение названий столбцов к формату snake_case\n",
    "df.columns = df.columns.str.strip().str.lower().str.replace(' ', '_')"
   ]
  },
  {
   "cell_type": "code",
   "execution_count": null,
   "id": "87b573dd",
   "metadata": {
    "id": "87b573dd"
   },
   "outputs": [],
   "source": [
    "df.columns"
   ]
  },
  {
   "cell_type": "markdown",
   "id": "41bc6bf8",
   "metadata": {
    "id": "41bc6bf8"
   },
   "source": [
    "<a class=\"anchor\" id=\"Работа-с-типом-данных-ч1\"></a>\n",
    "### 2.2. Типы данных\n",
    "\n",
    "- Если встречаются некорректные типы данных, предположите их причины.\n",
    "- При необходимости проведите преобразование типов данных. Помните, что столбцы с числовыми данными и пропусками нельзя преобразовать к типу `int64`. Сначала вам понадобится обработать пропуски, а затем преобразовать типы данных."
   ]
  },
  {
   "cell_type": "code",
   "execution_count": null,
   "id": "46abaad8",
   "metadata": {},
   "outputs": [],
   "source": [
    "# Комментарий ревьюера\n",
    "tmp = df.copy() # создаем копию датасета до преобразования\n",
    "len(tmp)"
   ]
  },
  {
   "cell_type": "code",
   "execution_count": null,
   "id": "8adaac81",
   "metadata": {
    "id": "8adaac81"
   },
   "outputs": [],
   "source": [
    "df.dtypes"
   ]
  },
  {
   "cell_type": "markdown",
   "id": "63378edf",
   "metadata": {
    "id": "63378edf"
   },
   "source": [
    "- В числовых столбцах могут встретиться строковые значения, например `unknown` или другие. Приводите такие столбцы к числовому типу данных, заменив строковые значения на пропуски."
   ]
  },
  {
   "cell_type": "markdown",
   "id": "4f734990",
   "metadata": {},
   "source": [
    "Числовые данные, имеющие не числовой тип данных:\n",
    "- `user_score`\n",
    "- `jp_sales`\n",
    "- `eu_sales`"
   ]
  },
  {
   "cell_type": "code",
   "execution_count": null,
   "id": "ac5cc169",
   "metadata": {
    "scrolled": true
   },
   "outputs": [],
   "source": [
    "for col in ['user_score', 'jp_sales', 'eu_sales']:\n",
    "    display(df[col].unique())"
   ]
  },
  {
   "cell_type": "markdown",
   "id": "20e551dc",
   "metadata": {},
   "source": [
    "**Вывод по анализу:**\n",
    "- Столбцы `user_score`, `jp_score`, `eu_sales` имеют тип данных `object`, что обусловлено наличием значения строкового типа `unknown` в столбцах `jp_score`, `eu_sales` и значения строкового типа `tbd` в столбце `user_score`. Именно данный тип данных позволяет хранить и числовые, и нечисловые данные.\n",
    "- Вероятно, ошибка в столбцах `jp_score`, `eu_sales`связаны с ошибков в данных или неправильной записью.\n",
    "- Ошибка же в `user_score` же наиболее вероятно является ошибкой заполнения данных, ибо `tbd` - это `to be determined`, то есть подлежит уточнению."
   ]
  },
  {
   "cell_type": "code",
   "execution_count": null,
   "id": "3a26fb26",
   "metadata": {
    "id": "3a26fb26"
   },
   "outputs": [],
   "source": [
    "# Приведение типов данных в продажам по Европе и Японии к float64 с заменой строк на NaN через аргумент errors = 'coerce'\n",
    "df['eu_sales'] = pd.to_numeric(df['eu_sales'], errors='coerce')\n",
    "df['jp_sales'] = pd.to_numeric(df['jp_sales'], errors='coerce')\n",
    "df['user_score'] = pd.to_numeric(df['user_score'], errors='coerce')"
   ]
  },
  {
   "cell_type": "code",
   "execution_count": null,
   "id": "11003d69",
   "metadata": {
    "id": "11003d69"
   },
   "outputs": [],
   "source": [
    "df.dtypes"
   ]
  },
  {
   "cell_type": "markdown",
   "id": "89977203",
   "metadata": {},
   "source": [
    "[Вернуться к содержанию](#Содержание)"
   ]
  },
  {
   "cell_type": "markdown",
   "id": "b39893cb",
   "metadata": {
    "id": "b39893cb"
   },
   "source": [
    "<a class=\"anchor\" id=\"Работа-с-пропусками\"></a>\n",
    "### 2.3. Наличие пропусков в данных\n",
    "\n",
    "- Посчитайте количество пропусков в каждом столбце в абсолютных и относительных значениях.\n"
   ]
  },
  {
   "cell_type": "code",
   "execution_count": null,
   "id": "0f1c91a8",
   "metadata": {
    "id": "0f1c91a8"
   },
   "outputs": [],
   "source": [
    "print(f\"Количество пропусков в абсолютных значениях:\")\n",
    "display(pd.DataFrame(df.isna().sum(), columns=['Total NaN'])\n",
    "        .style.background_gradient('coolwarm'))"
   ]
  },
  {
   "cell_type": "code",
   "execution_count": null,
   "id": "86cd1cc1",
   "metadata": {
    "id": "86cd1cc1"
   },
   "outputs": [],
   "source": [
    "print(f\"Количество пропусков в относительных значениях (%):\")\n",
    "display(pd.DataFrame(round((df.isna().mean()*100),2), columns=['NaNs, %'])\n",
    "        .style.format( '{:.2f}').background_gradient('coolwarm'))"
   ]
  },
  {
   "cell_type": "code",
   "execution_count": null,
   "id": "e62e8a04",
   "metadata": {},
   "outputs": [],
   "source": [
    "# Комментарий ревьюера\n",
    "temp = df.copy()\n",
    "display(pd.DataFrame(round((temp.isna().mean()*100),2), columns=['NaNs, %'])\n",
    "        .style.format( '{:.2f}').background_gradient('coolwarm'))"
   ]
  },
  {
   "cell_type": "code",
   "execution_count": null,
   "id": "4badc586",
   "metadata": {},
   "outputs": [],
   "source": [
    "df[df[['eu_sales', 'jp_sales']].isna().any(axis = 1)]"
   ]
  },
  {
   "cell_type": "markdown",
   "id": "cf796f51",
   "metadata": {
    "id": "cf796f51"
   },
   "source": [
    "- Изучите данные с пропущенными значениями. Напишите промежуточный вывод: для каких столбцов характерны пропуски и сколько их. Предположите, почему пропуски могли возникнуть. Укажите, какие действия с этими данными можно сделать и почему.\n"
   ]
  },
  {
   "cell_type": "markdown",
   "id": "687bb029",
   "metadata": {
    "id": "bd69e642"
   },
   "source": [
    "**Выводы о пропусках**\n",
    "\n",
    "--------------------\n",
    "- Незначительное количество пропусков присутствует в 5 столбцах из 11, в 3 из 11 значительное количество. В совокупности пропуски в 8 из 11 столбцов.\n",
    "--------------------\n",
    "- В критических столбцах, как `name`, `genre` и `year_of_release`, пропуски заменить не представляется возможным (за исключением вариантов поиска данных в интернете или загрузки из библиотеки с оценками и иными данными, если такая есть), поэтому их стоит удалить. \n",
    "- Вероятно, была допущена ошибка при сборе данных.\n",
    "--------------------\n",
    "- Пропуски в столбце `rating` можно заменить на значение `Unknown` из-за недостатка каких-то связей для другой логической замены, кроме как создания отдельной категории.\n",
    "- Некоторые игры могли не проходить сертификацию ESRB, в том числе могли быть предназначены для рынков, где эта сертификация не использовлась/не используется всё ещё, а может и вовсе не была обязательной.\n",
    "--------------------\n",
    "- Появившиеся пропуски в столбцах `eu_sales` и `jp_sales` можно заменить на 0 (отсутствие продаж в том или ином регионе) или на среднее значение в зависимости от названия платформы и года выхода игры. Я решил выбрать второй вариант.\n",
    "- Ошибки могут быть вызваны ошибками в сборе данных или недостатком конкретной информации о продажах.\n",
    "--------------------\n",
    "- В столбцах `critic_score` и `user_score` с одной стороны можно заменить на индикатор -1, а можно на средние. Однако, я выберу вариант с индикатором, ибо средние значения исказят смысл данных, а сами игры могут быть просто не оценены.\n",
    "- При этом возможна просто ошибка при сборе данных или просто их отсутствие (н-р, на super-mario 1985 я из интереса вообще оценок не нашёл) \n",
    "--------------------\n",
    "- Исправлены типы данных:\n",
    "  - `eu_sales` —> `float64`\n",
    "  - `jp_sales` —> `float64`\n",
    "--------------------\n",
    "[Вернуться к содержанию](#Содержание)"
   ]
  },
  {
   "cell_type": "markdown",
   "id": "bbbe3bda",
   "metadata": {
    "id": "bbbe3bda"
   },
   "source": [
    "- Обработайте пропущенные значения. Для каждого случая вы можете выбрать оптимальный, на ваш взгляд, вариант: заменить на определённое значение, оставить как есть или удалить.\n",
    "- Если вы решите заменить пропуски на значение-индикатор, то убедитесь, что предложенное значение не может быть использовано в данных.\n",
    "- Если вы нашли пропуски в данных с количеством проданных копий игры в том или ином регионе, их можно заменить на среднее значение в зависимости от названия платформы и года выхода игры."
   ]
  },
  {
   "cell_type": "code",
   "execution_count": null,
   "id": "b6965b19",
   "metadata": {
    "id": "b6965b19"
   },
   "outputs": [],
   "source": [
    "# Удаление пропусков в столбцах name, genre, year_of_release\n",
    "df = df.dropna(subset = ['name', 'genre', 'year_of_release'])"
   ]
  },
  {
   "cell_type": "code",
   "execution_count": null,
   "id": "72760d09",
   "metadata": {},
   "outputs": [],
   "source": [
    "total_rows_2 = df.shape[0]\n",
    "delete_1 = total_rows_1 - total_rows_2"
   ]
  },
  {
   "cell_type": "code",
   "execution_count": null,
   "id": "45cd1a7a",
   "metadata": {},
   "outputs": [],
   "source": [
    "# Замена пропусков в стоблце рейтинга ESRB на новую категория unknown\n",
    "df['rating'] = df['rating'].fillna('Unknown')"
   ]
  },
  {
   "cell_type": "code",
   "execution_count": null,
   "id": "154be65d",
   "metadata": {
    "id": "154be65d"
   },
   "outputs": [],
   "source": [
    "# Замена оценок на индикатор -1\n",
    "df['critic_score'] = df['critic_score'].fillna(-1)\n",
    "df['user_score'] = df['user_score'].fillna(-1)"
   ]
  },
  {
   "cell_type": "code",
   "execution_count": null,
   "id": "78fe2bea",
   "metadata": {},
   "outputs": [],
   "source": [
    "# Замена продаж на средние в зависимости от названия платформы и года выхода игры\n",
    "group_means = df.groupby(['platform', 'year_of_release'])[['eu_sales', 'jp_sales']].mean()\n",
    "\n",
    "def fill_group_sales(row):\n",
    "    mean_values = group_means.loc[(row['platform'], row['year_of_release'])]\n",
    "    if pd.isna(row['eu_sales']):\n",
    "        row['eu_sales'] = mean_values['eu_sales']\n",
    "    if pd.isna(row['jp_sales']):\n",
    "        row['jp_sales'] = mean_values['jp_sales']\n",
    "    return row\n",
    "\n",
    "df = df.apply(fill_group_sales, axis=1)"
   ]
  },
  {
   "cell_type": "code",
   "execution_count": null,
   "id": "ac066c9a",
   "metadata": {},
   "outputs": [],
   "source": [
    "df.isna().sum()"
   ]
  },
  {
   "cell_type": "markdown",
   "id": "709fb8dc",
   "metadata": {},
   "source": [
    "<a class=\"anchor\" id=\"Работа-с-типом-данных-ч2\"></a>\n",
    "**Дополнительные преобразования данных**"
   ]
  },
  {
   "cell_type": "code",
   "execution_count": null,
   "id": "c3040ede",
   "metadata": {},
   "outputs": [],
   "source": [
    "df['user_score'] = df['user_score'].astype('float64')\n",
    "df['critic_score'] = df['critic_score'].astype('int64')\n",
    "df['year_of_release'] = df['year_of_release'].astype('int64')"
   ]
  },
  {
   "cell_type": "code",
   "execution_count": null,
   "id": "df513a83",
   "metadata": {},
   "outputs": [],
   "source": [
    "df.isna().sum()"
   ]
  },
  {
   "cell_type": "markdown",
   "id": "d9e3520c",
   "metadata": {},
   "source": [
    "**Промежуточный вывод по анализу и обработке пропусков**\n",
    "\n",
    "- Удалены пропуски по столбцам `name`, `genre`, `year_of_release` из-за их критичности этих столбцов и невозможности логической замены.\n",
    "- Произведена замена в столбце `rating` на значение `Unknown` в связи с невозможностью логичной замены, а также отсутствия этого рейтинга в других странах.\n",
    "- Произведена замена пропусков, образовавшихся после после преобразования типа данных в столбцах `jp_sales` и `eu_sales`. Пропуски в них были заменены на средние значения в зависимости от названия платформы и года выхода игры.\n",
    "- Пропуски в столбцах `critic_score` и `user_score` заменены на индикатор `-1` из-за невозможности логической замены. Игры могут не иметь оценки критиков или пользователей. Для примера тот же марио 1985 года\n",
    "\n",
    "---\n",
    "[Вернуться к содержанию](#Содержание)"
   ]
  },
  {
   "cell_type": "markdown",
   "id": "a63363fd",
   "metadata": {
    "id": "a63363fd"
   },
   "source": [
    "<a class=\"anchor\" id=\"Работа-с-дубликатами\"></a>\n",
    "### 2.4. Явные и неявные дубликаты в данных\n",
    "\n",
    "- Изучите уникальные значения в категориальных данных, например с названиями жанра игры, платформы, рейтинга и года выпуска. Проверьте, встречаются ли среди данных неявные дубликаты, связанные с опечатками или разным способом написания.\n",
    "- При необходимости проведите нормализацию данных с текстовыми значениями. Названия или жанры игр можно привести к нижнему регистру, а названия рейтинга — к верхнему."
   ]
  },
  {
   "cell_type": "code",
   "execution_count": null,
   "id": "491c9c39",
   "metadata": {
    "id": "491c9c39"
   },
   "outputs": [],
   "source": [
    "df.dtypes"
   ]
  },
  {
   "cell_type": "code",
   "execution_count": null,
   "id": "f1627198",
   "metadata": {
    "id": "f1627198",
    "scrolled": true
   },
   "outputs": [],
   "source": [
    "df['name'].unique().tolist()"
   ]
  },
  {
   "cell_type": "code",
   "execution_count": null,
   "id": "a0cac80c",
   "metadata": {
    "id": "a0cac80c",
    "scrolled": true
   },
   "outputs": [],
   "source": [
    "df['platform'].unique().tolist()"
   ]
  },
  {
   "cell_type": "code",
   "execution_count": null,
   "id": "55a05c08",
   "metadata": {
    "scrolled": true
   },
   "outputs": [],
   "source": [
    "df['genre'].unique().tolist()"
   ]
  },
  {
   "cell_type": "code",
   "execution_count": null,
   "id": "e520b0a4",
   "metadata": {},
   "outputs": [],
   "source": [
    "# Приведение названий игра и жанра к нижнему регистру\n",
    "df['name'] = df['name'].str.lower()\n",
    "df['genre'] = df['genre'].str.lower()\n",
    "\n",
    "# Приведение возрастного рейтинга к верхнему регистру\n",
    "df['rating'] = df['rating'].str.upper()"
   ]
  },
  {
   "cell_type": "code",
   "execution_count": null,
   "id": "18764bbe",
   "metadata": {},
   "outputs": [],
   "source": [
    "df['genre'].unique().tolist()"
   ]
  },
  {
   "cell_type": "markdown",
   "id": "fc3d3db4",
   "metadata": {
    "id": "fc3d3db4"
   },
   "source": [
    "- После того как нормализуете данные и устраните неявные дубликаты, проверьте наличие явных дубликатов в данных."
   ]
  },
  {
   "cell_type": "code",
   "execution_count": null,
   "id": "2f61e076",
   "metadata": {
    "id": "2f61e076"
   },
   "outputs": [],
   "source": [
    "total_duplicates = df.duplicated().sum()\n",
    "total_rows_3 = total_rows_2 - total_duplicates"
   ]
  },
  {
   "cell_type": "code",
   "execution_count": null,
   "id": "fc5c91b5",
   "metadata": {
    "id": "fc5c91b5"
   },
   "outputs": [],
   "source": [
    "print(f\"Всего явных дубликатов: {total_duplicates}\")"
   ]
  },
  {
   "cell_type": "code",
   "execution_count": null,
   "id": "29e57705",
   "metadata": {
    "id": "29e57705"
   },
   "outputs": [],
   "source": [
    "# Удаление явных дубликатов\n",
    "df = df.drop_duplicates()"
   ]
  },
  {
   "cell_type": "markdown",
   "id": "54616bae",
   "metadata": {
    "id": "54616bae"
   },
   "source": [
    "- Напишите промежуточный вывод: укажите количество найденных дубликатов и действия по их обработке."
   ]
  },
  {
   "cell_type": "markdown",
   "id": "e71362a7",
   "metadata": {
    "id": "8548f894"
   },
   "source": [
    "**Промежуточный вывод:**\n",
    "\n",
    "*Явные дубликаты:*\n",
    "- 235 строк явных дубликатов.\n",
    "- Явные дубликаты были удалены, так как составляют незначительную часть данных и не являются подходящими для анализа.\n",
    "\n",
    "*Неявные дубликаты:*\n",
    "- Неявные дубликаты найдены в столбце `genre`.\n",
    "- Для избежания проблем с ним и другими столбцами (`name` и `raiting`) они были преобразованы в нижний и верхний регистры.\n",
    "---\n",
    "- Дополнительно исправлены типы данных:\n",
    "  - `year_of_release` —> `int64`\n",
    "  - `user_score` —> `float64`\n",
    "  - `critic_score` —> `int64`\n",
    "\n",
    "---\n",
    "[Вернуться к содержанию](#Содержание)"
   ]
  },
  {
   "cell_type": "markdown",
   "id": "72645ae9",
   "metadata": {
    "id": "72645ae9"
   },
   "source": [
    "- В процессе подготовки данных вы могли что-либо удалять, например строки с пропусками или ошибками, дубликаты и прочее. В этом случае посчитайте количество удалённых строк в абсолютном и относительном значениях."
   ]
  },
  {
   "cell_type": "code",
   "execution_count": null,
   "id": "f9d8ee19",
   "metadata": {
    "id": "f9d8ee19"
   },
   "outputs": [],
   "source": [
    "print(f\"Изначально было {total_rows_1} строк\")\n",
    "print(\"------------------------------\")\n",
    "print(f\"Удалено строк с пропущенными значеними - {delete_1}, что составляет {round(delete_1 / total_rows_1, 2)}% изначального количества\")\n",
    "print(f\"В датасете теперь {total_rows_2} строк\")\n",
    "print(\"------------------------------\")\n",
    "print(f\"Удалено {total_duplicates} дубликатов, что составляет {round(total_duplicates / total_rows_2, 2)}% количества до удаления\")\n",
    "print(f\"В конечном итоге осталось {total_rows_3} строк\")\n",
    "print(\"------------------------------\")\n",
    "print(f\"Было {total_rows_1} строк, стало {total_rows_3}\")\n",
    "print(f\"В общем удалено {total_duplicates + delete_1}, что {round((total_duplicates + delete_1) / total_rows_1, 2)}% от всех данных\")"
   ]
  },
  {
   "cell_type": "code",
   "execution_count": null,
   "id": "d45f2f2e",
   "metadata": {},
   "outputs": [],
   "source": [
    "# Комментарий ревьюера\n",
    "# Проверим сколько удалено строк датасета\n",
    "a, b = len(tmp), len(df)\n",
    "print(\" Было строк в исходном датасете\", a,\n",
    "      '\\n', \"Осталось строк в датасете после обработки\", b,\n",
    "      '\\n', \"Удалено строк в датасете после обработки\", a-b,\n",
    "      '\\n', \"Процент потерь\", round((a-b)/a*100, 2))"
   ]
  },
  {
   "cell_type": "markdown",
   "id": "47613d75",
   "metadata": {
    "id": "47613d75"
   },
   "source": [
    "- После проведения предобработки данных напишите общий промежуточный вывод."
   ]
  },
  {
   "cell_type": "code",
   "execution_count": null,
   "id": "85351157",
   "metadata": {},
   "outputs": [],
   "source": [
    "df.columns"
   ]
  },
  {
   "cell_type": "markdown",
   "id": "b0a1160e",
   "metadata": {
    "id": "5166fdf8"
   },
   "source": [
    "**Общий промежуточный вывод**\n",
    "- Было удалено 235 явных дубликатов, а также исправлены неявные дубликаты в значениях столбца `genre`.\n",
    "- Было удалено 277 строк с пропущенными значеними, которые были критическими, и их замена не представлялась возможной.\n",
    "---\n",
    "- Пропуски в `critic_score` и `user_score` заменены индикатором -1,ибо средние значения исказят смысл данных, а сами игры могут быть просто не оценены.\n",
    "- Появившиеся пропуски в столбцах `eu_sales` и `jp_sales` заменены на среднее значение в зависимости от названия платформы и года выхода игры.\n",
    "- Пропуски в столбце `rating` заменены на значение Unknown из-за недостатка каких-то связей для другой логической замены, кроме как создания отдельной категории.\n",
    "- Значения по столбцам `name` и `genre` приведены к нижнему регистру, а значения по столбцу `rating` к верхнему регистру.\n",
    "- В критических столбцах, как `name`, `genre` и `year_of_release`, пропуски были удалены.\n",
    "---\n",
    "- Типы данных приведены к соответствующим:\n",
    "  - `year_of_release` —> `int64`\n",
    "  - `eu_sales` —> `float64`\n",
    "  - `jp_sales` —> `float64`\n",
    "  - `user_score` —> `float64`\n",
    "  - `critic_score` —> `int64`\n",
    "---\n",
    "[Вернуться к содержанию](#Содержание)"
   ]
  },
  {
   "cell_type": "markdown",
   "id": "613f0eb0",
   "metadata": {
    "id": "613f0eb0"
   },
   "source": [
    "---\n",
    "<a class=\"anchor\" id=\"Фильтрация-данных\"></a>\n",
    "## 3. Фильтрация данных\n",
    "\n",
    "Коллеги хотят изучить историю продаж игр в начале XXI века, и их интересует период с 2000 по 2013 год включительно. Отберите данные по этому показателю. Сохраните новый срез данных в отдельном датафрейме, например `df_actual`."
   ]
  },
  {
   "cell_type": "code",
   "execution_count": null,
   "id": "32a3bc5e",
   "metadata": {},
   "outputs": [],
   "source": [
    "# Создаем сред для интересующегося периода с 2000 по 2013\n",
    "df_actual_slice = df[(df['year_of_release'] >= 2000) & (df['year_of_release'] <= 2013)]"
   ]
  },
  {
   "cell_type": "code",
   "execution_count": null,
   "id": "2cf40183",
   "metadata": {},
   "outputs": [],
   "source": [
    "# Делаем копию смреза для избежания предупреждений и возможныъ ошибок\n",
    "df_actual = df_actual_slice.copy()"
   ]
  },
  {
   "cell_type": "code",
   "execution_count": null,
   "id": "d6ee1c4c",
   "metadata": {},
   "outputs": [],
   "source": [
    "df_actual.info()"
   ]
  },
  {
   "cell_type": "markdown",
   "id": "53d9953a",
   "metadata": {},
   "source": [
    "**Оценка полученного датасета**\n",
    "- Датасет иметт 12781 строку и 11 столбцов.\n",
    "- Ни в одном столбце нет пропусков.\n",
    "- Типы данных полностью правильны и соотвествуют необходимым для строк.\n",
    "- 5 столбцов с данными типа `float64`, 2 столбца с данными типа `int64`, 4 столбца с данными типа `object`.\n",
    "---\n",
    "[Вернуться к содержанию](#Содержание)"
   ]
  },
  {
   "cell_type": "markdown",
   "id": "a6f10b01",
   "metadata": {
    "id": "a6f10b01"
   },
   "source": [
    "---\n",
    "<a class=\"anchor\" id=\"Категоризация-данных\"></a>\n",
    "## 4. Категоризация данных\n",
    "    \n",
    "Проведите категоризацию данных:\n",
    "- Разделите все игры по оценкам пользователей и выделите такие категории: высокая оценка (от 8 до 10 включительно), средняя оценка (от 3 до 8, не включая правую границу интервала) и низкая оценка (от 0 до 3, не включая правую границу интервала)."
   ]
  },
  {
   "cell_type": "code",
   "execution_count": null,
   "id": "3db87229",
   "metadata": {
    "id": "3db87229"
   },
   "outputs": [],
   "source": [
    "# Функция для категоризации оценок пользователей по категориям оценок\n",
    "def categorize_user_score(score):\n",
    "    if 8 <= score <= 10:\n",
    "        return \"Высокая\"\n",
    "    elif 3 <= score < 8:\n",
    "        return \"Средняя\"\n",
    "    elif 0 <= score < 3:\n",
    "        return \"Низкая\"\n",
    "    elif score == -1:\n",
    "        return \"Нет данных\"\n",
    "\n",
    "# Применение данной функции через метод apply() для создания нового столбца с категорией по пользователям\n",
    "df_actual['user_score_category'] = df_actual['user_score'].apply(categorize_user_score)"
   ]
  },
  {
   "cell_type": "code",
   "execution_count": null,
   "id": "9b0ca0f2",
   "metadata": {
    "id": "9b0ca0f2"
   },
   "outputs": [],
   "source": [
    "df_actual.head(3)"
   ]
  },
  {
   "cell_type": "markdown",
   "id": "f8f34b40",
   "metadata": {
    "id": "f8f34b40"
   },
   "source": [
    "- Разделите все игры по оценкам критиков и выделите такие категории: высокая оценка (от 80 до 100 включительно), средняя оценка (от 30 до 80, не включая правую границу интервала) и низкая оценка (от 0 до 30, не включая правую границу интервала)."
   ]
  },
  {
   "cell_type": "code",
   "execution_count": null,
   "id": "e3f7acb0",
   "metadata": {
    "id": "e3f7acb0"
   },
   "outputs": [],
   "source": [
    "# Функция для категоризации оценок критиков по категориям оценок\n",
    "def categorize_critic_score(score):\n",
    "    if 80 <= score <= 100:\n",
    "        return \"Высокая\"\n",
    "    elif 30 <= score < 80:\n",
    "        return \"Средняя\"\n",
    "    elif 0 <= score < 30:\n",
    "        return \"Низкая\"\n",
    "    elif score == -1:\n",
    "        return \"Нет данных\"\n",
    "    \n",
    "# Применение данной функции через метод apply() для создания нового столбца с категорией по критикам\n",
    "df_actual['critic_score_category'] = df_actual['critic_score'].apply(categorize_critic_score)"
   ]
  },
  {
   "cell_type": "code",
   "execution_count": null,
   "id": "548fde17",
   "metadata": {
    "id": "548fde17"
   },
   "outputs": [],
   "source": [
    "df_actual.head(3)"
   ]
  },
  {
   "cell_type": "markdown",
   "id": "olkTlTlAUDR9",
   "metadata": {
    "id": "olkTlTlAUDR9"
   },
   "source": [
    "- После категоризации данных проверьте результат: сгруппируйте данные по выделенным категориям и посчитайте количество игр в каждой категории."
   ]
  },
  {
   "cell_type": "code",
   "execution_count": null,
   "id": "HW0Nsp-4UMSL",
   "metadata": {
    "id": "HW0Nsp-4UMSL"
   },
   "outputs": [],
   "source": [
    "# Кол-во игр в каждой категории для оценок пользователей\n",
    "df_actual.groupby('user_score_category')['name'].count()"
   ]
  },
  {
   "cell_type": "code",
   "execution_count": null,
   "id": "x2ne0HIpUMMD",
   "metadata": {
    "id": "x2ne0HIpUMMD"
   },
   "outputs": [],
   "source": [
    "# Кол-во игр в каждой категории для оценок критиков\n",
    "df_actual.groupby('critic_score_category')['name'].count()"
   ]
  },
  {
   "cell_type": "markdown",
   "id": "6a98444c",
   "metadata": {
    "id": "6a98444c"
   },
   "source": [
    "- Выделите топ-7 платформ по количеству игр, выпущенных за весь актуальный период."
   ]
  },
  {
   "cell_type": "code",
   "execution_count": null,
   "id": "003caa2c",
   "metadata": {
    "id": "003caa2c"
   },
   "outputs": [],
   "source": [
    "# Группировка по платформам для создания топ-7 платформ по кол-ву игр\n",
    "top_platfroms_by_games = df_actual.groupby('platform', as_index=False)['name'].count()\n",
    "top_platfroms_by_games.sort_values(by='name', ascending=False, inplace=True)\n",
    "top_platfroms_by_games.rename(columns={'name': 'total_games'}, inplace=True)\n",
    "\n",
    "# Изменение индекса для лучшей визуализации\n",
    "top_platfroms_by_games = top_platfroms_by_games.reset_index(drop=True)\n",
    "top_platfroms_by_games.index = range(1, len(top_platfroms_by_games) + 1)"
   ]
  },
  {
   "cell_type": "code",
   "execution_count": null,
   "id": "84febac1",
   "metadata": {},
   "outputs": [],
   "source": [
    "print(\"Топ-7 платформ по количеству игр за актуальный период:\")\n",
    "top_7_platforms_by_games = top_platfroms_by_games.head(7)\n",
    "top_7_platforms_by_games"
   ]
  },
  {
   "cell_type": "markdown",
   "id": "b8823227",
   "metadata": {},
   "source": [
    "[Вернуться к содержанию](#Содержание)"
   ]
  },
  {
   "cell_type": "markdown",
   "id": "c0158881",
   "metadata": {
    "id": "c0158881"
   },
   "source": [
    "---\n",
    "<a class=\"anchor\" id=\"Итоговый-вывод\"></a>\n",
    "## 5. Итоговый вывод\n",
    "\n",
    "В конце напишите основной вывод и отразите, какую работу проделали. Не забудьте указать описание среза данных и новых полей, которые добавили в исходный датасет."
   ]
  },
  {
   "cell_type": "markdown",
   "id": "a87d331f",
   "metadata": {},
   "source": [
    "### Краткое описание целей и задач"
   ]
  },
  {
   "cell_type": "markdown",
   "id": "f871ec5a",
   "metadata": {},
   "source": [
    "- Отобрать данные по времени выхода игры за период с 2000 по 2013 год включительно.\n",
    "- Категоризовать игры по оценкам пользователей и экспертов. Выделите три категории:\n",
    "  - высокая оценка — с оценкой от 8 до 10 и от 80 до 100, включая правые границы интервалов.\n",
    "  - средняя оценка — с оценкой от 3 до 8 и от 30 до 80, не включая правые границы интервалов.\n",
    "  - низкая оценка — с оценкой от 0 до 3 и от 0 до 30, не включая правые границы интервалов.\n",
    "- Выделить топ-7 платформ по количеству игр, выпущенных за весь требуемый период."
   ]
  },
  {
   "cell_type": "markdown",
   "id": "aa64dc24",
   "metadata": {},
   "source": [
    "### Основные результаты, полученные в ходе выполнения проекта"
   ]
  },
  {
   "cell_type": "markdown",
   "id": "d69c4afa",
   "metadata": {},
   "source": [
    "1. Обработаны данные: типы данных, пропуски, дубликаты и т.д.\n",
    "2. Получен срез по времени выхода игры за период с 2000 по 2013 год включительно.\n",
    "3. Произведена категоризация по оценкам пользователей и критиков на три категории: высокая, средняя, низкая.\n",
    "4. Выделены топ-7 платформ по количеству игр, выпущенных за весь требуемый период."
   ]
  },
  {
   "cell_type": "markdown",
   "id": "6a66610f",
   "metadata": {},
   "source": [
    "### Анализ разделов проекта"
   ]
  },
  {
   "cell_type": "markdown",
   "id": "b7a1a70e",
   "metadata": {},
   "source": [
    "**Загрузка данных и знакомство с ними**\n",
    "- Данные загружены и проанализированы.\n",
    "\n",
    "**Проверка ошибок в данных и их предобработка**\n",
    "- Столбцы приведены к формату `snake_case`.\n",
    "- Значения столбцов `name` и `genre` к нижнему регистру, значения столбца `raiting` к верхнему.\n",
    "---\n",
    "- Обработаны типы данных:\n",
    "  - `year_of_release` —> `int64`\n",
    "  - `eu_sales` —> `float64`\n",
    "  - `jp_sales` —> `float64`\n",
    "  - `user_score` —> `float64`\n",
    "  - `Critic score` —> `int64`\n",
    "---\n",
    "- Было удалено 235 явных дубликатов, а также исправлены неявные дубликаты в значениях столбца `genre`.\n",
    "- Было удалено 277 строк с пропущенными значеними, которые были критическими, и их замена не представлялась возможной. Это качается столбцов `name`, `genre`, `year_of_release`.\n",
    "- Пропуски в `critic_score` и `user_score` заменены индикатором -1,ибо средние значения исказят смысл данных, а сами игры могут быть просто не оценены.\n",
    "- Появившиеся пропуски в столбцах `eu_sales` и `jp_sales` заменены на среднее значение в зависимости от названия платформы и года выхода игры.\n",
    "- Пропуски в столбце `rating` заменены на значение `UNKNOWN` из-за недостатка каких-то связей для другой логической замены, кроме как создания отдельной категории.\n",
    "\n",
    "**Фильтрация данных**\n",
    "- Получен срез данных `df_actual` с периодом с 2000 по 2013 года.\n",
    "- Создана копия и проведен анализ нового датасета/среза.\n",
    "\n",
    "**Категоризация данных**\n",
    "- По этому срезу произведена категоризация по столбцам `critic_score` и `user_score` и созданы новые столбцы `user_score_category` и `critic_score_category` с категориями оценок: высокая, средняя, низкая.\n",
    "- Создан датафрейм `top_7_platforms_by_games` с топ-7 платформами по количеству игр на них.\n",
    "- Дополнительно индексы приведены к месту в топ-7 для красоты и лучшего визуального понимания и восприятия."
   ]
  },
  {
   "cell_type": "markdown",
   "id": "2d2412c3",
   "metadata": {},
   "source": [
    "### Возможные направления дальнейшего развития и применения полученных результатов"
   ]
  },
  {
   "cell_type": "markdown",
   "id": "911f4471",
   "metadata": {},
   "source": [
    "- После обработки данных и получения среза можно выполнить необходимые исследования, которые планировались командой игры \"Секреты Темнолесья\".\n",
    "- Для примера можно рассмотреть самые высокооцененные жанры, в какие годы были популярны какие-либо жанры и так далее.\n",
    "- В добавок, можно по категоризации провести дополнительный анализ.\n",
    "- Можно проанализировать самые популярные платформы по таблице топ-7 платформ по количеству игр на них.\n",
    "---\n",
    "[Вернуться к содержанию](#Содержание)"
   ]
  }
 ],
 "metadata": {
  "ExecuteTimeLog": [
   {
    "duration": 404,
    "start_time": "2024-12-22T16:27:20.636Z"
   },
   {
    "duration": 103,
    "start_time": "2024-12-22T16:28:18.981Z"
   },
   {
    "duration": 18,
    "start_time": "2024-12-22T16:28:50.189Z"
   },
   {
    "duration": 15,
    "start_time": "2024-12-22T16:29:01.013Z"
   },
   {
    "duration": 10,
    "start_time": "2024-12-22T16:32:20.817Z"
   },
   {
    "duration": 68,
    "start_time": "2024-12-22T16:43:09.101Z"
   },
   {
    "duration": 5,
    "start_time": "2024-12-22T16:43:13.974Z"
   },
   {
    "duration": 2,
    "start_time": "2024-12-22T16:43:38.142Z"
   },
   {
    "duration": 7,
    "start_time": "2024-12-22T16:45:36.722Z"
   },
   {
    "duration": 4,
    "start_time": "2024-12-22T16:47:06.632Z"
   },
   {
    "duration": 4,
    "start_time": "2024-12-22T16:47:11.659Z"
   },
   {
    "duration": 400,
    "start_time": "2024-12-22T16:47:24.745Z"
   },
   {
    "duration": 52,
    "start_time": "2024-12-22T16:47:26.878Z"
   },
   {
    "duration": 19,
    "start_time": "2024-12-22T16:47:28.718Z"
   },
   {
    "duration": 15,
    "start_time": "2024-12-22T16:47:29.647Z"
   },
   {
    "duration": 10,
    "start_time": "2024-12-22T16:47:33.143Z"
   },
   {
    "duration": 3,
    "start_time": "2024-12-22T16:47:36.699Z"
   },
   {
    "duration": 4,
    "start_time": "2024-12-22T16:47:37.928Z"
   },
   {
    "duration": 3,
    "start_time": "2024-12-22T16:47:38.745Z"
   },
   {
    "duration": 5,
    "start_time": "2024-12-22T16:48:06.582Z"
   },
   {
    "duration": 73,
    "start_time": "2024-12-22T17:01:47.611Z"
   },
   {
    "duration": 768,
    "start_time": "2024-12-22T17:03:20.567Z"
   },
   {
    "duration": 21,
    "start_time": "2024-12-22T17:05:19.119Z"
   },
   {
    "duration": 5,
    "start_time": "2024-12-22T17:05:31.848Z"
   },
   {
    "duration": 10,
    "start_time": "2024-12-22T17:06:43.062Z"
   },
   {
    "duration": 5,
    "start_time": "2024-12-22T17:06:43.723Z"
   },
   {
    "duration": 9,
    "start_time": "2024-12-22T17:07:06.033Z"
   },
   {
    "duration": 10,
    "start_time": "2024-12-22T17:07:39.819Z"
   },
   {
    "duration": 9,
    "start_time": "2024-12-22T17:08:12.362Z"
   },
   {
    "duration": 11,
    "start_time": "2024-12-22T17:08:31.332Z"
   },
   {
    "duration": 9,
    "start_time": "2024-12-22T17:14:05.233Z"
   },
   {
    "duration": 9,
    "start_time": "2024-12-22T17:14:20.405Z"
   },
   {
    "duration": 10,
    "start_time": "2024-12-22T17:14:23.598Z"
   },
   {
    "duration": 11,
    "start_time": "2024-12-22T17:14:42.799Z"
   },
   {
    "duration": 91,
    "start_time": "2024-12-22T17:22:14.688Z"
   },
   {
    "duration": 17,
    "start_time": "2024-12-22T17:24:00.290Z"
   },
   {
    "duration": 17,
    "start_time": "2024-12-22T17:24:06.240Z"
   },
   {
    "duration": 9,
    "start_time": "2024-12-22T17:46:54.532Z"
   },
   {
    "duration": 12,
    "start_time": "2024-12-22T17:47:00.491Z"
   },
   {
    "duration": 9,
    "start_time": "2024-12-22T17:47:37.623Z"
   },
   {
    "duration": 7,
    "start_time": "2024-12-22T17:47:55.026Z"
   },
   {
    "duration": 5,
    "start_time": "2024-12-22T17:53:28.192Z"
   },
   {
    "duration": 5,
    "start_time": "2024-12-22T17:57:11.309Z"
   },
   {
    "duration": 4,
    "start_time": "2024-12-22T17:58:13.711Z"
   },
   {
    "duration": 13,
    "start_time": "2024-12-22T17:58:36.520Z"
   },
   {
    "duration": 4,
    "start_time": "2024-12-22T17:58:44.399Z"
   },
   {
    "duration": 366,
    "start_time": "2024-12-22T17:58:52.184Z"
   },
   {
    "duration": 51,
    "start_time": "2024-12-22T17:58:52.552Z"
   },
   {
    "duration": 17,
    "start_time": "2024-12-22T17:58:52.605Z"
   },
   {
    "duration": 37,
    "start_time": "2024-12-22T17:58:52.623Z"
   },
   {
    "duration": 25,
    "start_time": "2024-12-22T17:58:52.661Z"
   },
   {
    "duration": 26,
    "start_time": "2024-12-22T17:58:52.687Z"
   },
   {
    "duration": 16,
    "start_time": "2024-12-22T17:58:52.714Z"
   },
   {
    "duration": 18,
    "start_time": "2024-12-22T17:58:52.731Z"
   },
   {
    "duration": 9,
    "start_time": "2024-12-22T17:58:52.750Z"
   },
   {
    "duration": 75,
    "start_time": "2024-12-22T17:58:52.761Z"
   },
   {
    "duration": 0,
    "start_time": "2024-12-22T17:58:52.839Z"
   },
   {
    "duration": 0,
    "start_time": "2024-12-22T17:58:52.840Z"
   },
   {
    "duration": 0,
    "start_time": "2024-12-22T17:58:52.841Z"
   },
   {
    "duration": 0,
    "start_time": "2024-12-22T17:58:52.842Z"
   },
   {
    "duration": 0,
    "start_time": "2024-12-22T17:58:52.843Z"
   },
   {
    "duration": 0,
    "start_time": "2024-12-22T17:58:52.844Z"
   },
   {
    "duration": 0,
    "start_time": "2024-12-22T17:58:52.853Z"
   },
   {
    "duration": 406,
    "start_time": "2024-12-22T17:59:38.926Z"
   },
   {
    "duration": 50,
    "start_time": "2024-12-22T17:59:39.495Z"
   },
   {
    "duration": 19,
    "start_time": "2024-12-22T17:59:40.182Z"
   },
   {
    "duration": 14,
    "start_time": "2024-12-22T17:59:40.411Z"
   },
   {
    "duration": 10,
    "start_time": "2024-12-22T17:59:40.640Z"
   },
   {
    "duration": 4,
    "start_time": "2024-12-22T17:59:44.197Z"
   },
   {
    "duration": 5,
    "start_time": "2024-12-22T17:59:44.986Z"
   },
   {
    "duration": 5,
    "start_time": "2024-12-22T17:59:46.466Z"
   },
   {
    "duration": 5,
    "start_time": "2024-12-22T17:59:47.948Z"
   },
   {
    "duration": 84,
    "start_time": "2024-12-22T17:59:52.593Z"
   },
   {
    "duration": 14,
    "start_time": "2024-12-22T18:00:56.719Z"
   },
   {
    "duration": 5,
    "start_time": "2024-12-22T18:00:58.460Z"
   },
   {
    "duration": 9,
    "start_time": "2024-12-22T18:01:36.379Z"
   },
   {
    "duration": 11,
    "start_time": "2024-12-22T18:01:40.866Z"
   },
   {
    "duration": 17,
    "start_time": "2024-12-22T18:01:44.040Z"
   },
   {
    "duration": 12,
    "start_time": "2024-12-22T18:01:47.585Z"
   },
   {
    "duration": 8,
    "start_time": "2024-12-22T18:01:49.730Z"
   },
   {
    "duration": 7,
    "start_time": "2024-12-22T18:03:28.228Z"
   },
   {
    "duration": 4,
    "start_time": "2024-12-22T18:05:23.330Z"
   },
   {
    "duration": 409,
    "start_time": "2024-12-22T18:08:09.942Z"
   },
   {
    "duration": 52,
    "start_time": "2024-12-22T18:08:10.354Z"
   },
   {
    "duration": 4,
    "start_time": "2024-12-22T18:08:10.552Z"
   },
   {
    "duration": 19,
    "start_time": "2024-12-22T18:08:12.000Z"
   },
   {
    "duration": 15,
    "start_time": "2024-12-22T18:08:12.700Z"
   },
   {
    "duration": 10,
    "start_time": "2024-12-22T18:08:13.000Z"
   },
   {
    "duration": 4,
    "start_time": "2024-12-22T18:08:14.249Z"
   },
   {
    "duration": 4,
    "start_time": "2024-12-22T18:08:14.500Z"
   },
   {
    "duration": 4,
    "start_time": "2024-12-22T18:08:15.102Z"
   },
   {
    "duration": 6,
    "start_time": "2024-12-22T18:08:16.076Z"
   },
   {
    "duration": 23,
    "start_time": "2024-12-22T18:08:17.236Z"
   },
   {
    "duration": 6,
    "start_time": "2024-12-22T18:08:17.497Z"
   },
   {
    "duration": 13,
    "start_time": "2024-12-22T18:08:18.654Z"
   },
   {
    "duration": 16,
    "start_time": "2024-12-22T18:08:19.151Z"
   },
   {
    "duration": 25,
    "start_time": "2024-12-22T18:08:19.670Z"
   },
   {
    "duration": 11,
    "start_time": "2024-12-22T18:08:21.721Z"
   },
   {
    "duration": 5,
    "start_time": "2024-12-22T18:08:22.441Z"
   },
   {
    "duration": 13,
    "start_time": "2024-12-22T18:08:26.163Z"
   },
   {
    "duration": 9,
    "start_time": "2024-12-22T18:15:14.418Z"
   },
   {
    "duration": 4,
    "start_time": "2024-12-22T18:15:16.101Z"
   },
   {
    "duration": 4,
    "start_time": "2024-12-22T18:16:35.057Z"
   },
   {
    "duration": 5,
    "start_time": "2024-12-22T18:58:14.648Z"
   },
   {
    "duration": 4,
    "start_time": "2024-12-22T19:00:26.121Z"
   },
   {
    "duration": 5,
    "start_time": "2024-12-22T19:00:33.752Z"
   },
   {
    "duration": 2,
    "start_time": "2024-12-22T19:00:40.702Z"
   },
   {
    "duration": 252,
    "start_time": "2024-12-22T19:02:24.594Z"
   },
   {
    "duration": 8,
    "start_time": "2024-12-22T19:02:54.423Z"
   },
   {
    "duration": 3,
    "start_time": "2024-12-22T19:03:21.610Z"
   },
   {
    "duration": 4,
    "start_time": "2024-12-22T19:03:31.308Z"
   },
   {
    "duration": 404,
    "start_time": "2024-12-22T19:03:49.351Z"
   },
   {
    "duration": 52,
    "start_time": "2024-12-22T19:03:49.757Z"
   },
   {
    "duration": 4,
    "start_time": "2024-12-22T19:03:49.810Z"
   },
   {
    "duration": 18,
    "start_time": "2024-12-22T19:03:50.261Z"
   },
   {
    "duration": 14,
    "start_time": "2024-12-22T19:03:50.425Z"
   },
   {
    "duration": 10,
    "start_time": "2024-12-22T19:03:50.592Z"
   },
   {
    "duration": 4,
    "start_time": "2024-12-22T19:03:51.521Z"
   },
   {
    "duration": 3,
    "start_time": "2024-12-22T19:03:51.875Z"
   },
   {
    "duration": 4,
    "start_time": "2024-12-22T19:03:52.213Z"
   },
   {
    "duration": 5,
    "start_time": "2024-12-22T19:03:52.640Z"
   },
   {
    "duration": 12,
    "start_time": "2024-12-22T19:03:53.137Z"
   },
   {
    "duration": 5,
    "start_time": "2024-12-22T19:03:53.502Z"
   },
   {
    "duration": 11,
    "start_time": "2024-12-22T19:03:54.114Z"
   },
   {
    "duration": 11,
    "start_time": "2024-12-22T19:03:54.901Z"
   },
   {
    "duration": 25,
    "start_time": "2024-12-22T19:03:55.857Z"
   },
   {
    "duration": 9,
    "start_time": "2024-12-22T19:04:00.598Z"
   },
   {
    "duration": 5,
    "start_time": "2024-12-22T19:04:01.424Z"
   },
   {
    "duration": 6,
    "start_time": "2024-12-22T19:04:02.656Z"
   },
   {
    "duration": 3,
    "start_time": "2024-12-22T19:04:02.727Z"
   },
   {
    "duration": 4,
    "start_time": "2024-12-22T19:04:03.236Z"
   },
   {
    "duration": 3,
    "start_time": "2024-12-22T19:05:37.287Z"
   },
   {
    "duration": 8,
    "start_time": "2024-12-22T19:06:57.523Z"
   },
   {
    "duration": 15,
    "start_time": "2024-12-22T19:07:01.614Z"
   },
   {
    "duration": 3073,
    "start_time": "2024-12-22T19:18:26.867Z"
   },
   {
    "duration": 84,
    "start_time": "2024-12-22T19:20:36.638Z"
   },
   {
    "duration": 30,
    "start_time": "2024-12-22T19:20:36.724Z"
   },
   {
    "duration": 19,
    "start_time": "2024-12-22T19:20:36.755Z"
   },
   {
    "duration": 22,
    "start_time": "2024-12-22T19:20:36.775Z"
   },
   {
    "duration": 23,
    "start_time": "2024-12-22T19:20:36.798Z"
   },
   {
    "duration": 18,
    "start_time": "2024-12-22T19:20:36.823Z"
   },
   {
    "duration": 36,
    "start_time": "2024-12-22T19:20:36.843Z"
   },
   {
    "duration": 10,
    "start_time": "2024-12-22T19:20:36.880Z"
   },
   {
    "duration": 15,
    "start_time": "2024-12-22T19:20:36.891Z"
   },
   {
    "duration": 10,
    "start_time": "2024-12-22T19:20:36.907Z"
   },
   {
    "duration": 16,
    "start_time": "2024-12-22T19:20:36.918Z"
   },
   {
    "duration": 28,
    "start_time": "2024-12-22T19:20:36.936Z"
   },
   {
    "duration": 33,
    "start_time": "2024-12-22T19:20:36.965Z"
   },
   {
    "duration": 17,
    "start_time": "2024-12-22T19:20:36.999Z"
   },
   {
    "duration": 3143,
    "start_time": "2024-12-22T19:20:37.017Z"
   },
   {
    "duration": 9,
    "start_time": "2024-12-22T19:20:40.161Z"
   },
   {
    "duration": 5,
    "start_time": "2024-12-22T19:21:05.851Z"
   },
   {
    "duration": 6,
    "start_time": "2024-12-22T19:22:15.956Z"
   },
   {
    "duration": 15,
    "start_time": "2024-12-22T19:22:24.582Z"
   },
   {
    "duration": 17,
    "start_time": "2024-12-22T19:25:53.118Z"
   },
   {
    "duration": 6,
    "start_time": "2024-12-22T19:25:53.974Z"
   },
   {
    "duration": 68,
    "start_time": "2024-12-22T19:26:26.365Z"
   },
   {
    "duration": 11,
    "start_time": "2024-12-22T19:27:30.684Z"
   },
   {
    "duration": 399,
    "start_time": "2024-12-22T19:27:39.337Z"
   },
   {
    "duration": 53,
    "start_time": "2024-12-22T19:27:39.737Z"
   },
   {
    "duration": 3,
    "start_time": "2024-12-22T19:27:39.791Z"
   },
   {
    "duration": 55,
    "start_time": "2024-12-22T19:27:39.796Z"
   },
   {
    "duration": 14,
    "start_time": "2024-12-22T19:27:39.852Z"
   },
   {
    "duration": 9,
    "start_time": "2024-12-22T19:27:39.867Z"
   },
   {
    "duration": 3,
    "start_time": "2024-12-22T19:27:39.877Z"
   },
   {
    "duration": 5,
    "start_time": "2024-12-22T19:27:39.882Z"
   },
   {
    "duration": 22,
    "start_time": "2024-12-22T19:27:39.889Z"
   },
   {
    "duration": 23,
    "start_time": "2024-12-22T19:27:39.914Z"
   },
   {
    "duration": 19,
    "start_time": "2024-12-22T19:27:39.938Z"
   },
   {
    "duration": 9,
    "start_time": "2024-12-22T19:27:39.959Z"
   },
   {
    "duration": 14,
    "start_time": "2024-12-22T19:27:39.970Z"
   },
   {
    "duration": 17,
    "start_time": "2024-12-22T19:27:39.985Z"
   },
   {
    "duration": 16,
    "start_time": "2024-12-22T19:27:40.003Z"
   },
   {
    "duration": 8,
    "start_time": "2024-12-22T19:27:40.021Z"
   },
   {
    "duration": 15,
    "start_time": "2024-12-22T19:27:40.031Z"
   },
   {
    "duration": 21,
    "start_time": "2024-12-22T19:27:40.047Z"
   },
   {
    "duration": 3100,
    "start_time": "2024-12-22T19:27:40.069Z"
   },
   {
    "duration": 10,
    "start_time": "2024-12-22T19:27:43.171Z"
   },
   {
    "duration": 411,
    "start_time": "2024-12-22T19:27:43.182Z"
   },
   {
    "duration": 0,
    "start_time": "2024-12-22T19:27:43.594Z"
   },
   {
    "duration": 0,
    "start_time": "2024-12-22T19:27:43.595Z"
   },
   {
    "duration": 0,
    "start_time": "2024-12-22T19:27:43.596Z"
   },
   {
    "duration": 0,
    "start_time": "2024-12-22T19:27:43.596Z"
   },
   {
    "duration": 8,
    "start_time": "2024-12-22T19:28:32.489Z"
   },
   {
    "duration": 4,
    "start_time": "2024-12-22T19:28:47.616Z"
   },
   {
    "duration": 377,
    "start_time": "2024-12-22T19:28:51.664Z"
   },
   {
    "duration": 52,
    "start_time": "2024-12-22T19:28:52.043Z"
   },
   {
    "duration": 3,
    "start_time": "2024-12-22T19:28:52.096Z"
   },
   {
    "duration": 28,
    "start_time": "2024-12-22T19:28:52.100Z"
   },
   {
    "duration": 16,
    "start_time": "2024-12-22T19:28:52.131Z"
   },
   {
    "duration": 9,
    "start_time": "2024-12-22T19:28:52.148Z"
   },
   {
    "duration": 20,
    "start_time": "2024-12-22T19:28:52.159Z"
   },
   {
    "duration": 25,
    "start_time": "2024-12-22T19:28:52.181Z"
   },
   {
    "duration": 19,
    "start_time": "2024-12-22T19:28:52.207Z"
   },
   {
    "duration": 8,
    "start_time": "2024-12-22T19:28:52.227Z"
   },
   {
    "duration": 12,
    "start_time": "2024-12-22T19:28:52.236Z"
   },
   {
    "duration": 6,
    "start_time": "2024-12-22T19:28:52.250Z"
   },
   {
    "duration": 26,
    "start_time": "2024-12-22T19:28:52.257Z"
   },
   {
    "duration": 13,
    "start_time": "2024-12-22T19:28:52.286Z"
   },
   {
    "duration": 29,
    "start_time": "2024-12-22T19:28:52.300Z"
   },
   {
    "duration": 11,
    "start_time": "2024-12-22T19:28:52.331Z"
   },
   {
    "duration": 4,
    "start_time": "2024-12-22T19:28:52.343Z"
   },
   {
    "duration": 9,
    "start_time": "2024-12-22T19:28:52.348Z"
   },
   {
    "duration": 3104,
    "start_time": "2024-12-22T19:28:52.358Z"
   },
   {
    "duration": 9,
    "start_time": "2024-12-22T19:28:55.463Z"
   },
   {
    "duration": 8,
    "start_time": "2024-12-22T19:28:55.473Z"
   },
   {
    "duration": 9,
    "start_time": "2024-12-22T19:28:55.482Z"
   },
   {
    "duration": 18,
    "start_time": "2024-12-22T19:28:55.492Z"
   },
   {
    "duration": 4,
    "start_time": "2024-12-22T19:28:55.511Z"
   },
   {
    "duration": 8,
    "start_time": "2024-12-22T19:28:55.516Z"
   },
   {
    "duration": 8,
    "start_time": "2024-12-22T19:29:08.141Z"
   },
   {
    "duration": 7,
    "start_time": "2024-12-22T19:31:31.844Z"
   },
   {
    "duration": 7,
    "start_time": "2024-12-22T19:31:44.098Z"
   },
   {
    "duration": 17,
    "start_time": "2024-12-22T19:33:52.273Z"
   },
   {
    "duration": 5,
    "start_time": "2024-12-22T19:34:16.093Z"
   },
   {
    "duration": 15,
    "start_time": "2024-12-22T19:34:57.693Z"
   },
   {
    "duration": 63,
    "start_time": "2024-12-22T19:35:27.184Z"
   },
   {
    "duration": 15,
    "start_time": "2024-12-22T19:35:47.670Z"
   },
   {
    "duration": 17,
    "start_time": "2024-12-22T19:35:57.744Z"
   },
   {
    "duration": 13,
    "start_time": "2024-12-22T19:36:04.505Z"
   },
   {
    "duration": 13,
    "start_time": "2024-12-22T19:36:32.626Z"
   },
   {
    "duration": 13,
    "start_time": "2024-12-22T19:37:18.129Z"
   },
   {
    "duration": 14,
    "start_time": "2024-12-22T19:37:47.840Z"
   },
   {
    "duration": 49,
    "start_time": "2024-12-22T19:39:43.092Z"
   },
   {
    "duration": 0,
    "start_time": "2024-12-22T19:39:43.142Z"
   },
   {
    "duration": 401,
    "start_time": "2024-12-22T19:39:51.348Z"
   },
   {
    "duration": 53,
    "start_time": "2024-12-22T19:39:51.751Z"
   },
   {
    "duration": 3,
    "start_time": "2024-12-22T19:39:51.805Z"
   },
   {
    "duration": 30,
    "start_time": "2024-12-22T19:39:51.810Z"
   },
   {
    "duration": 23,
    "start_time": "2024-12-22T19:39:51.842Z"
   },
   {
    "duration": 17,
    "start_time": "2024-12-22T19:39:51.866Z"
   },
   {
    "duration": 11,
    "start_time": "2024-12-22T19:39:51.884Z"
   },
   {
    "duration": 10,
    "start_time": "2024-12-22T19:39:51.897Z"
   },
   {
    "duration": 20,
    "start_time": "2024-12-22T19:39:51.909Z"
   },
   {
    "duration": 11,
    "start_time": "2024-12-22T19:39:51.930Z"
   },
   {
    "duration": 30,
    "start_time": "2024-12-22T19:39:51.943Z"
   },
   {
    "duration": 5,
    "start_time": "2024-12-22T19:39:51.974Z"
   },
   {
    "duration": 15,
    "start_time": "2024-12-22T19:39:51.980Z"
   },
   {
    "duration": 12,
    "start_time": "2024-12-22T19:39:51.997Z"
   },
   {
    "duration": 22,
    "start_time": "2024-12-22T19:39:52.010Z"
   },
   {
    "duration": 23,
    "start_time": "2024-12-22T19:39:52.033Z"
   },
   {
    "duration": 33,
    "start_time": "2024-12-22T19:39:52.058Z"
   },
   {
    "duration": 18,
    "start_time": "2024-12-22T19:39:52.093Z"
   },
   {
    "duration": 3159,
    "start_time": "2024-12-22T19:39:52.113Z"
   },
   {
    "duration": 9,
    "start_time": "2024-12-22T19:39:55.274Z"
   },
   {
    "duration": 23,
    "start_time": "2024-12-22T19:39:55.284Z"
   },
   {
    "duration": 19,
    "start_time": "2024-12-22T19:39:55.308Z"
   },
   {
    "duration": 7,
    "start_time": "2024-12-22T19:39:55.328Z"
   },
   {
    "duration": 18,
    "start_time": "2024-12-22T19:39:55.337Z"
   },
   {
    "duration": 4,
    "start_time": "2024-12-22T19:39:55.357Z"
   },
   {
    "duration": 28,
    "start_time": "2024-12-22T19:39:55.363Z"
   },
   {
    "duration": 20,
    "start_time": "2024-12-22T19:39:55.392Z"
   },
   {
    "duration": 4,
    "start_time": "2024-12-22T19:39:55.413Z"
   },
   {
    "duration": 17,
    "start_time": "2024-12-22T19:39:55.418Z"
   },
   {
    "duration": 4,
    "start_time": "2024-12-22T19:39:55.436Z"
   },
   {
    "duration": 21,
    "start_time": "2024-12-22T19:39:55.441Z"
   },
   {
    "duration": 406,
    "start_time": "2024-12-22T19:58:26.129Z"
   },
   {
    "duration": 51,
    "start_time": "2024-12-22T19:58:26.537Z"
   },
   {
    "duration": 3,
    "start_time": "2024-12-22T19:58:26.590Z"
   },
   {
    "duration": 28,
    "start_time": "2024-12-22T19:58:26.594Z"
   },
   {
    "duration": 13,
    "start_time": "2024-12-22T19:58:26.624Z"
   },
   {
    "duration": 8,
    "start_time": "2024-12-22T19:58:26.638Z"
   },
   {
    "duration": 2,
    "start_time": "2024-12-22T19:58:26.648Z"
   },
   {
    "duration": 7,
    "start_time": "2024-12-22T19:58:26.651Z"
   },
   {
    "duration": 6,
    "start_time": "2024-12-22T19:58:26.659Z"
   },
   {
    "duration": 10,
    "start_time": "2024-12-22T19:58:26.666Z"
   },
   {
    "duration": 5,
    "start_time": "2024-12-22T19:58:26.678Z"
   },
   {
    "duration": 12,
    "start_time": "2024-12-22T19:58:26.685Z"
   },
   {
    "duration": 10,
    "start_time": "2024-12-22T19:58:26.698Z"
   },
   {
    "duration": 15,
    "start_time": "2024-12-22T19:58:26.711Z"
   },
   {
    "duration": 30,
    "start_time": "2024-12-22T19:58:26.728Z"
   },
   {
    "duration": 15,
    "start_time": "2024-12-22T19:58:26.760Z"
   },
   {
    "duration": 14,
    "start_time": "2024-12-22T19:58:26.777Z"
   },
   {
    "duration": 72,
    "start_time": "2024-12-22T19:58:26.792Z"
   },
   {
    "duration": 0,
    "start_time": "2024-12-22T19:58:26.866Z"
   },
   {
    "duration": 0,
    "start_time": "2024-12-22T19:58:26.867Z"
   },
   {
    "duration": 0,
    "start_time": "2024-12-22T19:58:26.868Z"
   },
   {
    "duration": 0,
    "start_time": "2024-12-22T19:58:26.869Z"
   },
   {
    "duration": 0,
    "start_time": "2024-12-22T19:58:26.869Z"
   },
   {
    "duration": 0,
    "start_time": "2024-12-22T19:58:26.870Z"
   },
   {
    "duration": 0,
    "start_time": "2024-12-22T19:58:26.871Z"
   },
   {
    "duration": 0,
    "start_time": "2024-12-22T19:58:26.872Z"
   },
   {
    "duration": 0,
    "start_time": "2024-12-22T19:58:26.873Z"
   },
   {
    "duration": 0,
    "start_time": "2024-12-22T19:58:26.874Z"
   },
   {
    "duration": 0,
    "start_time": "2024-12-22T19:58:26.875Z"
   },
   {
    "duration": 0,
    "start_time": "2024-12-22T19:58:26.876Z"
   },
   {
    "duration": 0,
    "start_time": "2024-12-22T19:58:26.877Z"
   },
   {
    "duration": 0,
    "start_time": "2024-12-22T19:58:26.878Z"
   },
   {
    "duration": 0,
    "start_time": "2024-12-22T19:58:26.878Z"
   },
   {
    "duration": 0,
    "start_time": "2024-12-22T19:58:26.879Z"
   },
   {
    "duration": 346,
    "start_time": "2024-12-22T19:58:40.697Z"
   },
   {
    "duration": 51,
    "start_time": "2024-12-22T19:58:41.045Z"
   },
   {
    "duration": 3,
    "start_time": "2024-12-22T19:58:41.097Z"
   },
   {
    "duration": 20,
    "start_time": "2024-12-22T19:58:41.101Z"
   },
   {
    "duration": 13,
    "start_time": "2024-12-22T19:58:41.123Z"
   },
   {
    "duration": 9,
    "start_time": "2024-12-22T19:58:41.137Z"
   },
   {
    "duration": 2,
    "start_time": "2024-12-22T19:58:41.152Z"
   },
   {
    "duration": 5,
    "start_time": "2024-12-22T19:58:41.155Z"
   },
   {
    "duration": 11,
    "start_time": "2024-12-22T19:58:41.161Z"
   },
   {
    "duration": 17,
    "start_time": "2024-12-22T19:58:41.174Z"
   },
   {
    "duration": 10,
    "start_time": "2024-12-22T19:58:41.192Z"
   },
   {
    "duration": 13,
    "start_time": "2024-12-22T19:58:41.203Z"
   },
   {
    "duration": 4,
    "start_time": "2024-12-22T19:58:41.217Z"
   },
   {
    "duration": 18,
    "start_time": "2024-12-22T19:58:41.223Z"
   },
   {
    "duration": 11,
    "start_time": "2024-12-22T19:58:41.242Z"
   },
   {
    "duration": 36,
    "start_time": "2024-12-22T19:58:41.254Z"
   },
   {
    "duration": 17,
    "start_time": "2024-12-22T19:58:41.291Z"
   },
   {
    "duration": 76,
    "start_time": "2024-12-22T19:58:41.310Z"
   },
   {
    "duration": 0,
    "start_time": "2024-12-22T19:58:41.387Z"
   },
   {
    "duration": 0,
    "start_time": "2024-12-22T19:58:41.388Z"
   },
   {
    "duration": 0,
    "start_time": "2024-12-22T19:58:41.389Z"
   },
   {
    "duration": 0,
    "start_time": "2024-12-22T19:58:41.390Z"
   },
   {
    "duration": 0,
    "start_time": "2024-12-22T19:58:41.391Z"
   },
   {
    "duration": 0,
    "start_time": "2024-12-22T19:58:41.392Z"
   },
   {
    "duration": 0,
    "start_time": "2024-12-22T19:58:41.393Z"
   },
   {
    "duration": 0,
    "start_time": "2024-12-22T19:58:41.394Z"
   },
   {
    "duration": 0,
    "start_time": "2024-12-22T19:58:41.395Z"
   },
   {
    "duration": 0,
    "start_time": "2024-12-22T19:58:41.396Z"
   },
   {
    "duration": 0,
    "start_time": "2024-12-22T19:58:41.397Z"
   },
   {
    "duration": 0,
    "start_time": "2024-12-22T19:58:41.398Z"
   },
   {
    "duration": 0,
    "start_time": "2024-12-22T19:58:41.398Z"
   },
   {
    "duration": 0,
    "start_time": "2024-12-22T19:58:41.399Z"
   },
   {
    "duration": 0,
    "start_time": "2024-12-22T19:58:41.400Z"
   },
   {
    "duration": 0,
    "start_time": "2024-12-22T19:58:41.401Z"
   },
   {
    "duration": 367,
    "start_time": "2024-12-22T19:58:57.372Z"
   },
   {
    "duration": 52,
    "start_time": "2024-12-22T19:58:57.741Z"
   },
   {
    "duration": 2,
    "start_time": "2024-12-22T19:58:57.795Z"
   },
   {
    "duration": 45,
    "start_time": "2024-12-22T19:58:57.799Z"
   },
   {
    "duration": 13,
    "start_time": "2024-12-22T19:58:57.846Z"
   },
   {
    "duration": 9,
    "start_time": "2024-12-22T19:58:57.860Z"
   },
   {
    "duration": 3,
    "start_time": "2024-12-22T19:58:57.870Z"
   },
   {
    "duration": 36,
    "start_time": "2024-12-22T19:58:57.874Z"
   },
   {
    "duration": 28,
    "start_time": "2024-12-22T19:58:57.911Z"
   },
   {
    "duration": 6,
    "start_time": "2024-12-22T19:58:57.940Z"
   },
   {
    "duration": 6,
    "start_time": "2024-12-22T19:58:57.947Z"
   },
   {
    "duration": 13,
    "start_time": "2024-12-22T19:58:57.954Z"
   },
   {
    "duration": 6,
    "start_time": "2024-12-22T19:58:57.968Z"
   },
   {
    "duration": 54,
    "start_time": "2024-12-22T19:58:57.977Z"
   },
   {
    "duration": 16,
    "start_time": "2024-12-22T19:58:58.033Z"
   },
   {
    "duration": 16,
    "start_time": "2024-12-22T19:58:58.050Z"
   },
   {
    "duration": 16,
    "start_time": "2024-12-22T19:58:58.067Z"
   },
   {
    "duration": 17,
    "start_time": "2024-12-22T19:58:58.084Z"
   },
   {
    "duration": 14,
    "start_time": "2024-12-22T19:58:58.103Z"
   },
   {
    "duration": 10,
    "start_time": "2024-12-22T19:58:58.118Z"
   },
   {
    "duration": 3120,
    "start_time": "2024-12-22T19:58:58.129Z"
   },
   {
    "duration": 8,
    "start_time": "2024-12-22T19:59:01.251Z"
   },
   {
    "duration": 50,
    "start_time": "2024-12-22T19:59:01.260Z"
   },
   {
    "duration": 8,
    "start_time": "2024-12-22T19:59:01.311Z"
   },
   {
    "duration": 5,
    "start_time": "2024-12-22T19:59:01.320Z"
   },
   {
    "duration": 23,
    "start_time": "2024-12-22T19:59:01.326Z"
   },
   {
    "duration": 4,
    "start_time": "2024-12-22T19:59:01.351Z"
   },
   {
    "duration": 41,
    "start_time": "2024-12-22T19:59:01.356Z"
   },
   {
    "duration": 25,
    "start_time": "2024-12-22T19:59:01.398Z"
   },
   {
    "duration": 6,
    "start_time": "2024-12-22T19:59:01.425Z"
   },
   {
    "duration": 50,
    "start_time": "2024-12-22T19:59:01.432Z"
   },
   {
    "duration": 14,
    "start_time": "2024-12-22T19:59:01.484Z"
   },
   {
    "duration": 34,
    "start_time": "2024-12-22T19:59:01.502Z"
   },
   {
    "duration": 8,
    "start_time": "2024-12-22T19:59:01.537Z"
   },
   {
    "duration": 3,
    "start_time": "2024-12-22T19:59:29.063Z"
   },
   {
    "duration": 4,
    "start_time": "2024-12-22T20:00:46.307Z"
   },
   {
    "duration": 4,
    "start_time": "2024-12-22T20:01:17.480Z"
   },
   {
    "duration": 5,
    "start_time": "2024-12-22T20:01:28.147Z"
   },
   {
    "duration": 6,
    "start_time": "2024-12-22T20:07:28.877Z"
   },
   {
    "duration": 5,
    "start_time": "2024-12-22T20:07:37.689Z"
   },
   {
    "duration": 14,
    "start_time": "2024-12-22T20:08:23.999Z"
   },
   {
    "duration": 391,
    "start_time": "2024-12-22T20:08:30.615Z"
   },
   {
    "duration": 52,
    "start_time": "2024-12-22T20:08:31.008Z"
   },
   {
    "duration": 2,
    "start_time": "2024-12-22T20:08:31.062Z"
   },
   {
    "duration": 28,
    "start_time": "2024-12-22T20:08:31.066Z"
   },
   {
    "duration": 39,
    "start_time": "2024-12-22T20:08:31.095Z"
   },
   {
    "duration": 37,
    "start_time": "2024-12-22T20:08:31.135Z"
   },
   {
    "duration": 9,
    "start_time": "2024-12-22T20:08:31.173Z"
   },
   {
    "duration": 29,
    "start_time": "2024-12-22T20:08:31.183Z"
   },
   {
    "duration": 11,
    "start_time": "2024-12-22T20:08:31.213Z"
   },
   {
    "duration": 9,
    "start_time": "2024-12-22T20:08:31.225Z"
   },
   {
    "duration": 22,
    "start_time": "2024-12-22T20:08:31.235Z"
   },
   {
    "duration": 25,
    "start_time": "2024-12-22T20:08:31.258Z"
   },
   {
    "duration": 24,
    "start_time": "2024-12-22T20:08:31.285Z"
   },
   {
    "duration": 23,
    "start_time": "2024-12-22T20:08:31.311Z"
   },
   {
    "duration": 12,
    "start_time": "2024-12-22T20:08:31.335Z"
   },
   {
    "duration": 17,
    "start_time": "2024-12-22T20:08:31.348Z"
   },
   {
    "duration": 8,
    "start_time": "2024-12-22T20:08:31.366Z"
   },
   {
    "duration": 21,
    "start_time": "2024-12-22T20:08:31.376Z"
   },
   {
    "duration": 10,
    "start_time": "2024-12-22T20:08:31.398Z"
   },
   {
    "duration": 27,
    "start_time": "2024-12-22T20:08:31.410Z"
   },
   {
    "duration": 3178,
    "start_time": "2024-12-22T20:08:31.439Z"
   },
   {
    "duration": 9,
    "start_time": "2024-12-22T20:08:34.619Z"
   },
   {
    "duration": 25,
    "start_time": "2024-12-22T20:08:34.630Z"
   },
   {
    "duration": 27,
    "start_time": "2024-12-22T20:08:34.656Z"
   },
   {
    "duration": 26,
    "start_time": "2024-12-22T20:08:34.685Z"
   },
   {
    "duration": 19,
    "start_time": "2024-12-22T20:08:34.713Z"
   },
   {
    "duration": 16,
    "start_time": "2024-12-22T20:08:34.733Z"
   },
   {
    "duration": 25,
    "start_time": "2024-12-22T20:08:34.750Z"
   },
   {
    "duration": 46,
    "start_time": "2024-12-22T20:08:34.776Z"
   },
   {
    "duration": 6,
    "start_time": "2024-12-22T20:08:34.824Z"
   },
   {
    "duration": 51,
    "start_time": "2024-12-22T20:08:34.831Z"
   },
   {
    "duration": 58,
    "start_time": "2024-12-22T20:08:34.884Z"
   },
   {
    "duration": 21,
    "start_time": "2024-12-22T20:08:34.944Z"
   },
   {
    "duration": 31,
    "start_time": "2024-12-22T20:08:34.967Z"
   },
   {
    "duration": 66,
    "start_time": "2024-12-22T20:10:05.879Z"
   },
   {
    "duration": 5,
    "start_time": "2024-12-22T20:10:09.674Z"
   },
   {
    "duration": 10,
    "start_time": "2024-12-22T20:10:18.750Z"
   },
   {
    "duration": 12,
    "start_time": "2024-12-22T20:11:37.424Z"
   },
   {
    "duration": 9,
    "start_time": "2024-12-22T20:11:38.050Z"
   },
   {
    "duration": 5,
    "start_time": "2024-12-22T20:11:52.666Z"
   },
   {
    "duration": 404,
    "start_time": "2024-12-22T20:12:58.048Z"
   },
   {
    "duration": 51,
    "start_time": "2024-12-22T20:12:58.454Z"
   },
   {
    "duration": 3,
    "start_time": "2024-12-22T20:12:58.506Z"
   },
   {
    "duration": 44,
    "start_time": "2024-12-22T20:12:58.510Z"
   },
   {
    "duration": 12,
    "start_time": "2024-12-22T20:12:58.556Z"
   },
   {
    "duration": 11,
    "start_time": "2024-12-22T20:12:58.569Z"
   },
   {
    "duration": 12,
    "start_time": "2024-12-22T20:12:58.582Z"
   },
   {
    "duration": 5,
    "start_time": "2024-12-22T20:12:58.595Z"
   },
   {
    "duration": 6,
    "start_time": "2024-12-22T20:12:58.601Z"
   },
   {
    "duration": 6,
    "start_time": "2024-12-22T20:12:58.608Z"
   },
   {
    "duration": 11,
    "start_time": "2024-12-22T20:12:58.615Z"
   },
   {
    "duration": 14,
    "start_time": "2024-12-22T20:12:58.627Z"
   },
   {
    "duration": 20,
    "start_time": "2024-12-22T20:12:58.642Z"
   },
   {
    "duration": 24,
    "start_time": "2024-12-22T20:12:58.664Z"
   },
   {
    "duration": 29,
    "start_time": "2024-12-22T20:12:58.689Z"
   },
   {
    "duration": 17,
    "start_time": "2024-12-22T20:12:58.719Z"
   },
   {
    "duration": 8,
    "start_time": "2024-12-22T20:12:58.737Z"
   },
   {
    "duration": 3,
    "start_time": "2024-12-22T20:12:58.746Z"
   },
   {
    "duration": 20,
    "start_time": "2024-12-22T20:12:58.750Z"
   },
   {
    "duration": 18,
    "start_time": "2024-12-22T20:12:58.771Z"
   },
   {
    "duration": 3132,
    "start_time": "2024-12-22T20:12:58.790Z"
   },
   {
    "duration": 8,
    "start_time": "2024-12-22T20:13:01.924Z"
   },
   {
    "duration": 20,
    "start_time": "2024-12-22T20:13:01.934Z"
   },
   {
    "duration": 30,
    "start_time": "2024-12-22T20:13:01.955Z"
   },
   {
    "duration": 28,
    "start_time": "2024-12-22T20:13:01.987Z"
   },
   {
    "duration": 19,
    "start_time": "2024-12-22T20:13:02.017Z"
   },
   {
    "duration": 31,
    "start_time": "2024-12-22T20:13:02.037Z"
   },
   {
    "duration": 7,
    "start_time": "2024-12-22T20:13:02.069Z"
   },
   {
    "duration": 34,
    "start_time": "2024-12-22T20:13:02.077Z"
   },
   {
    "duration": 40,
    "start_time": "2024-12-22T20:13:02.113Z"
   },
   {
    "duration": 20,
    "start_time": "2024-12-22T20:13:02.155Z"
   },
   {
    "duration": 58,
    "start_time": "2024-12-22T20:13:02.177Z"
   },
   {
    "duration": 16,
    "start_time": "2024-12-22T20:13:02.237Z"
   },
   {
    "duration": 25,
    "start_time": "2024-12-22T20:13:02.254Z"
   },
   {
    "duration": 44,
    "start_time": "2024-12-22T20:13:02.280Z"
   },
   {
    "duration": 10,
    "start_time": "2024-12-22T20:14:06.254Z"
   },
   {
    "duration": 64,
    "start_time": "2024-12-22T20:14:43.978Z"
   },
   {
    "duration": 13,
    "start_time": "2024-12-22T20:14:53.941Z"
   },
   {
    "duration": 4,
    "start_time": "2024-12-22T20:15:42.077Z"
   },
   {
    "duration": 78,
    "start_time": "2024-12-22T20:21:24.736Z"
   },
   {
    "duration": 7,
    "start_time": "2024-12-22T20:21:38.037Z"
   },
   {
    "duration": 11,
    "start_time": "2024-12-22T20:21:45.988Z"
   },
   {
    "duration": 7,
    "start_time": "2024-12-22T20:23:16.931Z"
   },
   {
    "duration": 12,
    "start_time": "2024-12-22T20:23:21.812Z"
   },
   {
    "duration": 11,
    "start_time": "2024-12-22T20:25:26.794Z"
   },
   {
    "duration": 9,
    "start_time": "2024-12-22T20:26:01.597Z"
   },
   {
    "duration": 12,
    "start_time": "2024-12-22T20:26:51.078Z"
   },
   {
    "duration": 10,
    "start_time": "2024-12-22T20:27:06.172Z"
   },
   {
    "duration": 7,
    "start_time": "2024-12-22T20:28:03.056Z"
   },
   {
    "duration": 7,
    "start_time": "2024-12-22T20:28:22.441Z"
   },
   {
    "duration": 8,
    "start_time": "2024-12-22T20:29:17.835Z"
   },
   {
    "duration": 21,
    "start_time": "2024-12-22T20:29:46.246Z"
   },
   {
    "duration": 8,
    "start_time": "2024-12-22T20:29:51.909Z"
   },
   {
    "duration": 8,
    "start_time": "2024-12-22T20:31:01.523Z"
   },
   {
    "duration": 11,
    "start_time": "2024-12-22T20:31:06.941Z"
   },
   {
    "duration": 11,
    "start_time": "2024-12-22T20:33:37.753Z"
   },
   {
    "duration": 7,
    "start_time": "2024-12-22T20:33:51.322Z"
   },
   {
    "duration": 13,
    "start_time": "2024-12-22T20:34:37.633Z"
   },
   {
    "duration": 385,
    "start_time": "2024-12-22T20:35:47.169Z"
   },
   {
    "duration": 52,
    "start_time": "2024-12-22T20:35:47.555Z"
   },
   {
    "duration": 3,
    "start_time": "2024-12-22T20:35:47.608Z"
   },
   {
    "duration": 22,
    "start_time": "2024-12-22T20:35:47.612Z"
   },
   {
    "duration": 13,
    "start_time": "2024-12-22T20:35:47.636Z"
   },
   {
    "duration": 8,
    "start_time": "2024-12-22T20:35:47.650Z"
   },
   {
    "duration": 3,
    "start_time": "2024-12-22T20:35:47.659Z"
   },
   {
    "duration": 7,
    "start_time": "2024-12-22T20:35:47.663Z"
   },
   {
    "duration": 9,
    "start_time": "2024-12-22T20:35:47.671Z"
   },
   {
    "duration": 7,
    "start_time": "2024-12-22T20:35:47.681Z"
   },
   {
    "duration": 7,
    "start_time": "2024-12-22T20:35:47.689Z"
   },
   {
    "duration": 16,
    "start_time": "2024-12-22T20:35:47.698Z"
   },
   {
    "duration": 4,
    "start_time": "2024-12-22T20:35:47.715Z"
   },
   {
    "duration": 8,
    "start_time": "2024-12-22T20:35:47.722Z"
   },
   {
    "duration": 32,
    "start_time": "2024-12-22T20:35:47.731Z"
   },
   {
    "duration": 21,
    "start_time": "2024-12-22T20:35:47.764Z"
   },
   {
    "duration": 7,
    "start_time": "2024-12-22T20:35:47.786Z"
   },
   {
    "duration": 3,
    "start_time": "2024-12-22T20:35:47.794Z"
   },
   {
    "duration": 13,
    "start_time": "2024-12-22T20:35:47.798Z"
   },
   {
    "duration": 5,
    "start_time": "2024-12-22T20:35:47.812Z"
   },
   {
    "duration": 3048,
    "start_time": "2024-12-22T20:35:47.819Z"
   },
   {
    "duration": 9,
    "start_time": "2024-12-22T20:35:50.869Z"
   },
   {
    "duration": 9,
    "start_time": "2024-12-22T20:35:50.879Z"
   },
   {
    "duration": 5,
    "start_time": "2024-12-22T20:35:50.890Z"
   },
   {
    "duration": 9,
    "start_time": "2024-12-22T20:35:50.896Z"
   },
   {
    "duration": 4,
    "start_time": "2024-12-22T20:35:50.906Z"
   },
   {
    "duration": 43,
    "start_time": "2024-12-22T20:35:50.911Z"
   },
   {
    "duration": 5,
    "start_time": "2024-12-22T20:35:50.955Z"
   },
   {
    "duration": 15,
    "start_time": "2024-12-22T20:35:50.962Z"
   },
   {
    "duration": 25,
    "start_time": "2024-12-22T20:35:50.979Z"
   },
   {
    "duration": 21,
    "start_time": "2024-12-22T20:35:51.006Z"
   },
   {
    "duration": 18,
    "start_time": "2024-12-22T20:35:51.029Z"
   },
   {
    "duration": 3,
    "start_time": "2024-12-22T20:35:51.049Z"
   },
   {
    "duration": 38,
    "start_time": "2024-12-22T20:35:51.054Z"
   },
   {
    "duration": 17,
    "start_time": "2024-12-22T20:35:51.093Z"
   },
   {
    "duration": 21,
    "start_time": "2024-12-22T20:35:51.112Z"
   },
   {
    "duration": 51,
    "start_time": "2024-12-22T20:35:51.135Z"
   },
   {
    "duration": 27,
    "start_time": "2024-12-22T20:35:51.188Z"
   },
   {
    "duration": 39,
    "start_time": "2024-12-22T20:35:51.216Z"
   },
   {
    "duration": 24,
    "start_time": "2024-12-22T20:35:51.257Z"
   },
   {
    "duration": 24,
    "start_time": "2024-12-22T20:35:51.285Z"
   },
   {
    "duration": 19,
    "start_time": "2024-12-22T20:35:51.311Z"
   },
   {
    "duration": 29,
    "start_time": "2024-12-22T20:35:51.331Z"
   },
   {
    "duration": 79,
    "start_time": "2024-12-22T20:35:51.362Z"
   },
   {
    "duration": 5,
    "start_time": "2024-12-22T20:36:05.012Z"
   },
   {
    "duration": 7,
    "start_time": "2024-12-22T20:36:08.723Z"
   },
   {
    "duration": 6,
    "start_time": "2024-12-22T20:37:05.334Z"
   },
   {
    "duration": 6,
    "start_time": "2024-12-22T20:37:06.450Z"
   },
   {
    "duration": 6,
    "start_time": "2024-12-22T20:37:11.126Z"
   },
   {
    "duration": 4,
    "start_time": "2024-12-22T20:37:18.091Z"
   },
   {
    "duration": 7,
    "start_time": "2024-12-22T20:37:34.690Z"
   },
   {
    "duration": 357,
    "start_time": "2024-12-22T20:39:57.877Z"
   },
   {
    "duration": 50,
    "start_time": "2024-12-22T20:39:58.236Z"
   },
   {
    "duration": 3,
    "start_time": "2024-12-22T20:39:58.287Z"
   },
   {
    "duration": 44,
    "start_time": "2024-12-22T20:39:58.291Z"
   },
   {
    "duration": 18,
    "start_time": "2024-12-22T20:39:58.338Z"
   },
   {
    "duration": 25,
    "start_time": "2024-12-22T20:39:58.358Z"
   },
   {
    "duration": 11,
    "start_time": "2024-12-22T20:39:58.384Z"
   },
   {
    "duration": 16,
    "start_time": "2024-12-22T20:39:58.396Z"
   },
   {
    "duration": 4,
    "start_time": "2024-12-22T20:39:58.413Z"
   },
   {
    "duration": 23,
    "start_time": "2024-12-22T20:39:58.418Z"
   },
   {
    "duration": 11,
    "start_time": "2024-12-22T20:39:58.442Z"
   },
   {
    "duration": 13,
    "start_time": "2024-12-22T20:39:58.454Z"
   },
   {
    "duration": 4,
    "start_time": "2024-12-22T20:39:58.469Z"
   },
   {
    "duration": 9,
    "start_time": "2024-12-22T20:39:58.476Z"
   },
   {
    "duration": 10,
    "start_time": "2024-12-22T20:39:58.487Z"
   },
   {
    "duration": 16,
    "start_time": "2024-12-22T20:39:58.499Z"
   },
   {
    "duration": 37,
    "start_time": "2024-12-22T20:39:58.516Z"
   },
   {
    "duration": 2,
    "start_time": "2024-12-22T20:39:58.554Z"
   },
   {
    "duration": 33,
    "start_time": "2024-12-22T20:39:58.557Z"
   },
   {
    "duration": 7,
    "start_time": "2024-12-22T20:39:58.591Z"
   },
   {
    "duration": 3126,
    "start_time": "2024-12-22T20:39:58.599Z"
   },
   {
    "duration": 9,
    "start_time": "2024-12-22T20:40:01.727Z"
   },
   {
    "duration": 72,
    "start_time": "2024-12-22T20:40:01.737Z"
   },
   {
    "duration": 44,
    "start_time": "2024-12-22T20:40:01.810Z"
   },
   {
    "duration": 30,
    "start_time": "2024-12-22T20:40:01.856Z"
   },
   {
    "duration": 39,
    "start_time": "2024-12-22T20:40:01.887Z"
   },
   {
    "duration": 59,
    "start_time": "2024-12-22T20:40:01.927Z"
   },
   {
    "duration": 91,
    "start_time": "2024-12-22T20:40:01.987Z"
   },
   {
    "duration": 84,
    "start_time": "2024-12-22T20:40:02.079Z"
   },
   {
    "duration": 61,
    "start_time": "2024-12-22T20:40:02.164Z"
   },
   {
    "duration": 28,
    "start_time": "2024-12-22T20:40:02.227Z"
   },
   {
    "duration": 57,
    "start_time": "2024-12-22T20:40:02.257Z"
   },
   {
    "duration": 3,
    "start_time": "2024-12-22T20:40:02.315Z"
   },
   {
    "duration": 42,
    "start_time": "2024-12-22T20:40:02.319Z"
   },
   {
    "duration": 51,
    "start_time": "2024-12-22T20:40:02.363Z"
   },
   {
    "duration": 45,
    "start_time": "2024-12-22T20:40:02.415Z"
   },
   {
    "duration": 26,
    "start_time": "2024-12-22T20:40:02.461Z"
   },
   {
    "duration": 24,
    "start_time": "2024-12-22T20:40:02.489Z"
   },
   {
    "duration": 15,
    "start_time": "2024-12-22T20:40:02.515Z"
   },
   {
    "duration": 31,
    "start_time": "2024-12-22T20:40:02.531Z"
   },
   {
    "duration": 53,
    "start_time": "2024-12-22T20:40:02.565Z"
   },
   {
    "duration": 84,
    "start_time": "2024-12-22T20:40:02.620Z"
   },
   {
    "duration": 40,
    "start_time": "2024-12-22T20:40:02.705Z"
   },
   {
    "duration": 33,
    "start_time": "2024-12-22T20:40:02.747Z"
   },
   {
    "duration": 60,
    "start_time": "2024-12-22T20:40:02.782Z"
   },
   {
    "duration": 3,
    "start_time": "2024-12-22T20:41:07.978Z"
   },
   {
    "duration": 7,
    "start_time": "2024-12-22T20:41:11.396Z"
   },
   {
    "duration": 5,
    "start_time": "2024-12-22T20:41:26.644Z"
   },
   {
    "duration": 391,
    "start_time": "2024-12-22T20:41:57.357Z"
   },
   {
    "duration": 53,
    "start_time": "2024-12-22T20:41:57.750Z"
   },
   {
    "duration": 3,
    "start_time": "2024-12-22T20:41:57.804Z"
   },
   {
    "duration": 29,
    "start_time": "2024-12-22T20:41:57.808Z"
   },
   {
    "duration": 12,
    "start_time": "2024-12-22T20:41:57.839Z"
   },
   {
    "duration": 8,
    "start_time": "2024-12-22T20:41:57.853Z"
   },
   {
    "duration": 8,
    "start_time": "2024-12-22T20:41:57.862Z"
   },
   {
    "duration": 5,
    "start_time": "2024-12-22T20:41:57.872Z"
   },
   {
    "duration": 26,
    "start_time": "2024-12-22T20:41:57.878Z"
   },
   {
    "duration": 28,
    "start_time": "2024-12-22T20:41:57.905Z"
   },
   {
    "duration": 15,
    "start_time": "2024-12-22T20:41:57.934Z"
   },
   {
    "duration": 32,
    "start_time": "2024-12-22T20:41:57.950Z"
   },
   {
    "duration": 14,
    "start_time": "2024-12-22T20:41:57.983Z"
   },
   {
    "duration": 15,
    "start_time": "2024-12-22T20:41:58.001Z"
   },
   {
    "duration": 12,
    "start_time": "2024-12-22T20:41:58.017Z"
   },
   {
    "duration": 19,
    "start_time": "2024-12-22T20:41:58.030Z"
   },
   {
    "duration": 7,
    "start_time": "2024-12-22T20:41:58.051Z"
   },
   {
    "duration": 7,
    "start_time": "2024-12-22T20:41:58.060Z"
   },
   {
    "duration": 12,
    "start_time": "2024-12-22T20:41:58.069Z"
   },
   {
    "duration": 15,
    "start_time": "2024-12-22T20:41:58.082Z"
   },
   {
    "duration": 3154,
    "start_time": "2024-12-22T20:41:58.099Z"
   },
   {
    "duration": 8,
    "start_time": "2024-12-22T20:42:01.254Z"
   },
   {
    "duration": 27,
    "start_time": "2024-12-22T20:42:01.264Z"
   },
   {
    "duration": 16,
    "start_time": "2024-12-22T20:42:01.292Z"
   },
   {
    "duration": 12,
    "start_time": "2024-12-22T20:42:01.309Z"
   },
   {
    "duration": 16,
    "start_time": "2024-12-22T20:42:01.322Z"
   },
   {
    "duration": 47,
    "start_time": "2024-12-22T20:42:01.339Z"
   },
   {
    "duration": 25,
    "start_time": "2024-12-22T20:42:01.387Z"
   },
   {
    "duration": 9,
    "start_time": "2024-12-22T20:42:01.413Z"
   },
   {
    "duration": 28,
    "start_time": "2024-12-22T20:42:01.423Z"
   },
   {
    "duration": 4,
    "start_time": "2024-12-22T20:42:01.452Z"
   },
   {
    "duration": 40,
    "start_time": "2024-12-22T20:42:01.458Z"
   },
   {
    "duration": 15,
    "start_time": "2024-12-22T20:42:01.500Z"
   },
   {
    "duration": 40,
    "start_time": "2024-12-22T20:42:01.516Z"
   },
   {
    "duration": 5,
    "start_time": "2024-12-22T20:42:01.557Z"
   },
   {
    "duration": 83,
    "start_time": "2024-12-22T20:42:01.563Z"
   },
   {
    "duration": 13,
    "start_time": "2024-12-22T20:42:01.648Z"
   },
   {
    "duration": 50,
    "start_time": "2024-12-22T20:42:01.662Z"
   },
   {
    "duration": 29,
    "start_time": "2024-12-22T20:42:01.713Z"
   },
   {
    "duration": 39,
    "start_time": "2024-12-22T20:42:01.743Z"
   },
   {
    "duration": 29,
    "start_time": "2024-12-22T20:42:01.786Z"
   },
   {
    "duration": 11,
    "start_time": "2024-12-22T20:42:01.816Z"
   },
   {
    "duration": 18,
    "start_time": "2024-12-22T20:42:01.828Z"
   },
   {
    "duration": 18,
    "start_time": "2024-12-22T20:42:01.847Z"
   },
   {
    "duration": 11,
    "start_time": "2024-12-22T20:42:40.298Z"
   },
   {
    "duration": 4,
    "start_time": "2024-12-22T20:42:56.426Z"
   },
   {
    "duration": 375,
    "start_time": "2024-12-22T20:43:58.578Z"
   },
   {
    "duration": 53,
    "start_time": "2024-12-22T20:43:58.954Z"
   },
   {
    "duration": 4,
    "start_time": "2024-12-22T20:43:59.008Z"
   },
   {
    "duration": 19,
    "start_time": "2024-12-22T20:43:59.013Z"
   },
   {
    "duration": 15,
    "start_time": "2024-12-22T20:43:59.034Z"
   },
   {
    "duration": 9,
    "start_time": "2024-12-22T20:43:59.050Z"
   },
   {
    "duration": 3,
    "start_time": "2024-12-22T20:43:59.061Z"
   },
   {
    "duration": 4,
    "start_time": "2024-12-22T20:43:59.065Z"
   },
   {
    "duration": 3,
    "start_time": "2024-12-22T20:43:59.071Z"
   },
   {
    "duration": 4,
    "start_time": "2024-12-22T20:43:59.076Z"
   },
   {
    "duration": 4,
    "start_time": "2024-12-22T20:43:59.082Z"
   },
   {
    "duration": 22,
    "start_time": "2024-12-22T20:43:59.087Z"
   },
   {
    "duration": 4,
    "start_time": "2024-12-22T20:43:59.110Z"
   },
   {
    "duration": 42,
    "start_time": "2024-12-22T20:43:59.118Z"
   },
   {
    "duration": 15,
    "start_time": "2024-12-22T20:43:59.161Z"
   },
   {
    "duration": 25,
    "start_time": "2024-12-22T20:43:59.177Z"
   },
   {
    "duration": 8,
    "start_time": "2024-12-22T20:43:59.203Z"
   },
   {
    "duration": 2,
    "start_time": "2024-12-22T20:43:59.213Z"
   },
   {
    "duration": 11,
    "start_time": "2024-12-22T20:43:59.217Z"
   },
   {
    "duration": 17,
    "start_time": "2024-12-22T20:43:59.229Z"
   },
   {
    "duration": 3151,
    "start_time": "2024-12-22T20:43:59.247Z"
   },
   {
    "duration": 9,
    "start_time": "2024-12-22T20:44:02.399Z"
   },
   {
    "duration": 19,
    "start_time": "2024-12-22T20:44:02.410Z"
   },
   {
    "duration": 17,
    "start_time": "2024-12-22T20:44:02.430Z"
   },
   {
    "duration": 14,
    "start_time": "2024-12-22T20:44:02.448Z"
   },
   {
    "duration": 53,
    "start_time": "2024-12-22T20:44:02.463Z"
   },
   {
    "duration": 29,
    "start_time": "2024-12-22T20:44:02.517Z"
   },
   {
    "duration": 14,
    "start_time": "2024-12-22T20:44:02.548Z"
   },
   {
    "duration": 71,
    "start_time": "2024-12-22T20:44:02.563Z"
   },
   {
    "duration": 28,
    "start_time": "2024-12-22T20:44:02.635Z"
   },
   {
    "duration": 46,
    "start_time": "2024-12-22T20:44:02.664Z"
   },
   {
    "duration": 10,
    "start_time": "2024-12-22T20:44:02.712Z"
   },
   {
    "duration": 27,
    "start_time": "2024-12-22T20:44:02.723Z"
   },
   {
    "duration": 4,
    "start_time": "2024-12-22T20:44:02.752Z"
   },
   {
    "duration": 53,
    "start_time": "2024-12-22T20:44:02.758Z"
   },
   {
    "duration": 13,
    "start_time": "2024-12-22T20:44:02.812Z"
   },
   {
    "duration": 38,
    "start_time": "2024-12-22T20:44:02.826Z"
   },
   {
    "duration": 42,
    "start_time": "2024-12-22T20:44:02.865Z"
   },
   {
    "duration": 18,
    "start_time": "2024-12-22T20:44:02.908Z"
   },
   {
    "duration": 15,
    "start_time": "2024-12-22T20:44:02.928Z"
   },
   {
    "duration": 16,
    "start_time": "2024-12-22T20:44:02.946Z"
   },
   {
    "duration": 18,
    "start_time": "2024-12-22T20:44:02.964Z"
   },
   {
    "duration": 25,
    "start_time": "2024-12-22T20:44:02.983Z"
   },
   {
    "duration": 18,
    "start_time": "2024-12-22T20:44:03.009Z"
   },
   {
    "duration": 7,
    "start_time": "2024-12-22T20:44:21.382Z"
   },
   {
    "duration": 5,
    "start_time": "2024-12-22T20:51:55.155Z"
   },
   {
    "duration": 387,
    "start_time": "2024-12-22T20:52:00.075Z"
   },
   {
    "duration": 52,
    "start_time": "2024-12-22T20:52:00.464Z"
   },
   {
    "duration": 3,
    "start_time": "2024-12-22T20:52:00.518Z"
   },
   {
    "duration": 33,
    "start_time": "2024-12-22T20:52:00.523Z"
   },
   {
    "duration": 19,
    "start_time": "2024-12-22T20:52:00.558Z"
   },
   {
    "duration": 22,
    "start_time": "2024-12-22T20:52:00.578Z"
   },
   {
    "duration": 10,
    "start_time": "2024-12-22T20:52:00.602Z"
   },
   {
    "duration": 17,
    "start_time": "2024-12-22T20:52:00.613Z"
   },
   {
    "duration": 4,
    "start_time": "2024-12-22T20:52:00.631Z"
   },
   {
    "duration": 13,
    "start_time": "2024-12-22T20:52:00.637Z"
   },
   {
    "duration": 17,
    "start_time": "2024-12-22T20:52:00.651Z"
   },
   {
    "duration": 16,
    "start_time": "2024-12-22T20:52:00.670Z"
   },
   {
    "duration": 6,
    "start_time": "2024-12-22T20:52:00.687Z"
   },
   {
    "duration": 37,
    "start_time": "2024-12-22T20:52:00.695Z"
   },
   {
    "duration": 31,
    "start_time": "2024-12-22T20:52:00.734Z"
   },
   {
    "duration": 43,
    "start_time": "2024-12-22T20:52:00.767Z"
   },
   {
    "duration": 28,
    "start_time": "2024-12-22T20:52:00.812Z"
   },
   {
    "duration": 20,
    "start_time": "2024-12-22T20:52:00.842Z"
   },
   {
    "duration": 46,
    "start_time": "2024-12-22T20:52:00.864Z"
   },
   {
    "duration": 35,
    "start_time": "2024-12-22T20:52:00.911Z"
   },
   {
    "duration": 3200,
    "start_time": "2024-12-22T20:52:00.948Z"
   },
   {
    "duration": 9,
    "start_time": "2024-12-22T20:52:04.150Z"
   },
   {
    "duration": 49,
    "start_time": "2024-12-22T20:52:04.160Z"
   },
   {
    "duration": 18,
    "start_time": "2024-12-22T20:52:04.211Z"
   },
   {
    "duration": 15,
    "start_time": "2024-12-22T20:52:04.231Z"
   },
   {
    "duration": 36,
    "start_time": "2024-12-22T20:52:04.247Z"
   },
   {
    "duration": 42,
    "start_time": "2024-12-22T20:52:04.285Z"
   },
   {
    "duration": 14,
    "start_time": "2024-12-22T20:52:04.330Z"
   },
   {
    "duration": 30,
    "start_time": "2024-12-22T20:52:04.345Z"
   },
   {
    "duration": 17,
    "start_time": "2024-12-22T20:52:04.377Z"
   },
   {
    "duration": 63,
    "start_time": "2024-12-22T20:52:04.396Z"
   },
   {
    "duration": 9,
    "start_time": "2024-12-22T20:52:04.460Z"
   },
   {
    "duration": 39,
    "start_time": "2024-12-22T20:52:04.471Z"
   },
   {
    "duration": 6,
    "start_time": "2024-12-22T20:52:04.511Z"
   },
   {
    "duration": 33,
    "start_time": "2024-12-22T20:52:04.518Z"
   },
   {
    "duration": 15,
    "start_time": "2024-12-22T20:52:04.553Z"
   },
   {
    "duration": 25,
    "start_time": "2024-12-22T20:52:04.569Z"
   },
   {
    "duration": 25,
    "start_time": "2024-12-22T20:52:04.595Z"
   },
   {
    "duration": 20,
    "start_time": "2024-12-22T20:52:04.621Z"
   },
   {
    "duration": 12,
    "start_time": "2024-12-22T20:52:04.643Z"
   },
   {
    "duration": 30,
    "start_time": "2024-12-22T20:52:04.656Z"
   },
   {
    "duration": 9,
    "start_time": "2024-12-22T20:52:04.687Z"
   },
   {
    "duration": 49,
    "start_time": "2024-12-22T20:52:04.697Z"
   },
   {
    "duration": 4,
    "start_time": "2024-12-22T20:52:41.980Z"
   },
   {
    "duration": 13,
    "start_time": "2024-12-22T21:01:02.592Z"
   },
   {
    "duration": 8,
    "start_time": "2024-12-22T21:01:05.556Z"
   },
   {
    "duration": 7,
    "start_time": "2024-12-22T21:01:16.540Z"
   },
   {
    "duration": 7,
    "start_time": "2024-12-22T21:01:16.937Z"
   },
   {
    "duration": 8,
    "start_time": "2024-12-22T21:03:21.942Z"
   },
   {
    "duration": 7,
    "start_time": "2024-12-22T21:03:22.260Z"
   },
   {
    "duration": 8,
    "start_time": "2024-12-22T21:04:20.847Z"
   },
   {
    "duration": 7,
    "start_time": "2024-12-22T21:04:21.095Z"
   },
   {
    "duration": 8,
    "start_time": "2024-12-22T21:34:12.568Z"
   },
   {
    "duration": 8,
    "start_time": "2024-12-22T21:34:19.663Z"
   },
   {
    "duration": 9,
    "start_time": "2024-12-22T21:34:59.331Z"
   },
   {
    "duration": 6,
    "start_time": "2024-12-22T21:35:34.883Z"
   },
   {
    "duration": 7,
    "start_time": "2024-12-22T21:35:48.000Z"
   },
   {
    "duration": 5,
    "start_time": "2024-12-22T21:35:56.781Z"
   },
   {
    "duration": 3,
    "start_time": "2024-12-22T21:37:51.627Z"
   },
   {
    "duration": 4,
    "start_time": "2024-12-22T21:39:41.157Z"
   },
   {
    "duration": 3,
    "start_time": "2024-12-22T21:39:46.966Z"
   },
   {
    "duration": 12,
    "start_time": "2024-12-22T21:55:34.792Z"
   },
   {
    "duration": 12,
    "start_time": "2024-12-22T21:55:40.198Z"
   },
   {
    "duration": 7,
    "start_time": "2024-12-22T22:01:10.664Z"
   },
   {
    "duration": 454,
    "start_time": "2024-12-22T22:24:45.501Z"
   },
   {
    "duration": 223,
    "start_time": "2024-12-22T22:24:45.957Z"
   },
   {
    "duration": 4,
    "start_time": "2024-12-22T22:24:46.182Z"
   },
   {
    "duration": 26,
    "start_time": "2024-12-22T22:24:46.187Z"
   },
   {
    "duration": 25,
    "start_time": "2024-12-22T22:24:46.217Z"
   },
   {
    "duration": 11,
    "start_time": "2024-12-22T22:24:46.244Z"
   },
   {
    "duration": 29,
    "start_time": "2024-12-22T22:24:46.256Z"
   },
   {
    "duration": 16,
    "start_time": "2024-12-22T22:24:46.287Z"
   },
   {
    "duration": 7,
    "start_time": "2024-12-22T22:24:46.305Z"
   },
   {
    "duration": 10,
    "start_time": "2024-12-22T22:24:46.314Z"
   },
   {
    "duration": 10,
    "start_time": "2024-12-22T22:24:46.326Z"
   },
   {
    "duration": 18,
    "start_time": "2024-12-22T22:24:46.338Z"
   },
   {
    "duration": 72,
    "start_time": "2024-12-22T22:24:46.358Z"
   },
   {
    "duration": 15,
    "start_time": "2024-12-22T22:24:46.435Z"
   },
   {
    "duration": 24,
    "start_time": "2024-12-22T22:24:46.451Z"
   },
   {
    "duration": 21,
    "start_time": "2024-12-22T22:24:46.476Z"
   },
   {
    "duration": 19,
    "start_time": "2024-12-22T22:24:46.499Z"
   },
   {
    "duration": 3,
    "start_time": "2024-12-22T22:24:46.520Z"
   },
   {
    "duration": 15,
    "start_time": "2024-12-22T22:24:46.525Z"
   },
   {
    "duration": 8,
    "start_time": "2024-12-22T22:24:46.542Z"
   },
   {
    "duration": 4192,
    "start_time": "2024-12-22T22:24:46.552Z"
   },
   {
    "duration": 11,
    "start_time": "2024-12-22T22:24:50.746Z"
   },
   {
    "duration": 170,
    "start_time": "2024-12-22T22:24:50.759Z"
   },
   {
    "duration": 86,
    "start_time": "2024-12-22T22:24:50.931Z"
   },
   {
    "duration": 37,
    "start_time": "2024-12-22T22:24:51.019Z"
   },
   {
    "duration": 53,
    "start_time": "2024-12-22T22:24:51.058Z"
   },
   {
    "duration": 19,
    "start_time": "2024-12-22T22:24:51.112Z"
   },
   {
    "duration": 22,
    "start_time": "2024-12-22T22:24:51.133Z"
   },
   {
    "duration": 50,
    "start_time": "2024-12-22T22:24:51.157Z"
   },
   {
    "duration": 22,
    "start_time": "2024-12-22T22:24:51.209Z"
   },
   {
    "duration": 30,
    "start_time": "2024-12-22T22:24:51.233Z"
   },
   {
    "duration": 12,
    "start_time": "2024-12-22T22:24:51.264Z"
   },
   {
    "duration": 25,
    "start_time": "2024-12-22T22:24:51.278Z"
   },
   {
    "duration": 16,
    "start_time": "2024-12-22T22:24:51.305Z"
   },
   {
    "duration": 14,
    "start_time": "2024-12-22T22:24:51.328Z"
   },
   {
    "duration": 35,
    "start_time": "2024-12-22T22:24:51.344Z"
   },
   {
    "duration": 10,
    "start_time": "2024-12-22T22:24:51.380Z"
   },
   {
    "duration": 30,
    "start_time": "2024-12-22T22:24:51.391Z"
   },
   {
    "duration": 25,
    "start_time": "2024-12-22T22:24:51.424Z"
   },
   {
    "duration": 32,
    "start_time": "2024-12-22T22:24:51.450Z"
   },
   {
    "duration": 18,
    "start_time": "2024-12-22T22:24:51.485Z"
   },
   {
    "duration": 23,
    "start_time": "2024-12-22T22:24:51.505Z"
   },
   {
    "duration": 33,
    "start_time": "2024-12-22T22:24:51.531Z"
   },
   {
    "duration": 32,
    "start_time": "2024-12-22T22:24:51.566Z"
   },
   {
    "duration": 34,
    "start_time": "2024-12-22T22:24:51.599Z"
   },
   {
    "duration": 8,
    "start_time": "2024-12-22T22:29:19.618Z"
   },
   {
    "duration": 527,
    "start_time": "2024-12-22T22:31:44.332Z"
   },
   {
    "duration": 431,
    "start_time": "2024-12-22T22:31:54.053Z"
   },
   {
    "duration": 69,
    "start_time": "2024-12-22T22:31:54.486Z"
   },
   {
    "duration": 4,
    "start_time": "2024-12-22T22:31:54.557Z"
   },
   {
    "duration": 33,
    "start_time": "2024-12-22T22:31:54.563Z"
   },
   {
    "duration": 20,
    "start_time": "2024-12-22T22:31:54.598Z"
   },
   {
    "duration": 19,
    "start_time": "2024-12-22T22:31:54.621Z"
   },
   {
    "duration": 3,
    "start_time": "2024-12-22T22:31:54.642Z"
   },
   {
    "duration": 7,
    "start_time": "2024-12-22T22:31:54.647Z"
   },
   {
    "duration": 5,
    "start_time": "2024-12-22T22:31:54.656Z"
   },
   {
    "duration": 5,
    "start_time": "2024-12-22T22:31:54.663Z"
   },
   {
    "duration": 53,
    "start_time": "2024-12-22T22:31:54.670Z"
   },
   {
    "duration": 9,
    "start_time": "2024-12-22T22:31:54.724Z"
   },
   {
    "duration": 19,
    "start_time": "2024-12-22T22:31:54.735Z"
   },
   {
    "duration": 5,
    "start_time": "2024-12-22T22:31:54.759Z"
   },
   {
    "duration": 15,
    "start_time": "2024-12-22T22:31:54.766Z"
   },
   {
    "duration": 53,
    "start_time": "2024-12-22T22:31:54.783Z"
   },
   {
    "duration": 395,
    "start_time": "2024-12-22T22:31:54.838Z"
   },
   {
    "duration": 23,
    "start_time": "2024-12-22T22:31:55.235Z"
   },
   {
    "duration": 44,
    "start_time": "2024-12-22T22:31:55.260Z"
   },
   {
    "duration": 7,
    "start_time": "2024-12-22T22:31:55.306Z"
   },
   {
    "duration": 12,
    "start_time": "2024-12-22T22:31:55.321Z"
   },
   {
    "duration": 7,
    "start_time": "2024-12-22T22:31:55.335Z"
   },
   {
    "duration": 5843,
    "start_time": "2024-12-22T22:31:55.344Z"
   },
   {
    "duration": 27,
    "start_time": "2024-12-22T22:32:01.190Z"
   },
   {
    "duration": 19,
    "start_time": "2024-12-22T22:32:01.219Z"
   },
   {
    "duration": 37,
    "start_time": "2024-12-22T22:32:01.239Z"
   },
   {
    "duration": 28,
    "start_time": "2024-12-22T22:32:01.278Z"
   },
   {
    "duration": 37,
    "start_time": "2024-12-22T22:32:01.308Z"
   },
   {
    "duration": 17,
    "start_time": "2024-12-22T22:32:01.347Z"
   },
   {
    "duration": 8,
    "start_time": "2024-12-22T22:32:01.365Z"
   },
   {
    "duration": 21,
    "start_time": "2024-12-22T22:32:01.375Z"
   },
   {
    "duration": 8,
    "start_time": "2024-12-22T22:32:01.398Z"
   },
   {
    "duration": 25,
    "start_time": "2024-12-22T22:32:01.416Z"
   },
   {
    "duration": 3,
    "start_time": "2024-12-22T22:32:01.443Z"
   },
   {
    "duration": 34,
    "start_time": "2024-12-22T22:32:01.448Z"
   },
   {
    "duration": 6,
    "start_time": "2024-12-22T22:32:01.484Z"
   },
   {
    "duration": 29,
    "start_time": "2024-12-22T22:32:01.491Z"
   },
   {
    "duration": 15,
    "start_time": "2024-12-22T22:32:01.524Z"
   },
   {
    "duration": 33,
    "start_time": "2024-12-22T22:32:01.541Z"
   },
   {
    "duration": 14,
    "start_time": "2024-12-22T22:32:01.576Z"
   },
   {
    "duration": 9,
    "start_time": "2024-12-22T22:32:01.594Z"
   },
   {
    "duration": 33,
    "start_time": "2024-12-22T22:32:01.605Z"
   },
   {
    "duration": 34,
    "start_time": "2024-12-22T22:32:01.640Z"
   },
   {
    "duration": 12,
    "start_time": "2024-12-22T22:32:01.676Z"
   },
   {
    "duration": 23,
    "start_time": "2024-12-22T22:32:01.690Z"
   },
   {
    "duration": 67,
    "start_time": "2024-12-22T22:32:01.715Z"
   },
   {
    "duration": 28,
    "start_time": "2024-12-22T22:32:01.785Z"
   },
   {
    "duration": 17,
    "start_time": "2024-12-22T22:38:53.472Z"
   },
   {
    "duration": 7,
    "start_time": "2024-12-22T22:39:40.902Z"
   },
   {
    "duration": 12,
    "start_time": "2024-12-22T23:30:14.296Z"
   },
   {
    "duration": 63,
    "start_time": "2024-12-22T23:34:43.639Z"
   },
   {
    "duration": 11,
    "start_time": "2024-12-22T23:34:55.361Z"
   },
   {
    "duration": 393,
    "start_time": "2024-12-22T23:35:54.115Z"
   },
   {
    "duration": 50,
    "start_time": "2024-12-22T23:35:54.510Z"
   },
   {
    "duration": 3,
    "start_time": "2024-12-22T23:35:54.561Z"
   },
   {
    "duration": 18,
    "start_time": "2024-12-22T23:35:54.565Z"
   },
   {
    "duration": 22,
    "start_time": "2024-12-22T23:35:54.585Z"
   },
   {
    "duration": 14,
    "start_time": "2024-12-22T23:35:54.608Z"
   },
   {
    "duration": 21,
    "start_time": "2024-12-22T23:35:54.623Z"
   },
   {
    "duration": 7,
    "start_time": "2024-12-22T23:35:54.646Z"
   },
   {
    "duration": 5,
    "start_time": "2024-12-22T23:35:54.654Z"
   },
   {
    "duration": 4,
    "start_time": "2024-12-22T23:35:54.660Z"
   },
   {
    "duration": 24,
    "start_time": "2024-12-22T23:35:54.665Z"
   },
   {
    "duration": 7,
    "start_time": "2024-12-22T23:35:54.690Z"
   },
   {
    "duration": 23,
    "start_time": "2024-12-22T23:35:54.698Z"
   },
   {
    "duration": 22,
    "start_time": "2024-12-22T23:35:54.725Z"
   },
   {
    "duration": 4,
    "start_time": "2024-12-22T23:35:54.748Z"
   },
   {
    "duration": 8,
    "start_time": "2024-12-22T23:35:54.754Z"
   },
   {
    "duration": 9,
    "start_time": "2024-12-22T23:35:54.764Z"
   },
   {
    "duration": 438,
    "start_time": "2024-12-22T23:35:54.775Z"
   },
   {
    "duration": 17,
    "start_time": "2024-12-22T23:35:55.214Z"
   },
   {
    "duration": 20,
    "start_time": "2024-12-22T23:35:55.233Z"
   },
   {
    "duration": 10,
    "start_time": "2024-12-22T23:35:55.255Z"
   },
   {
    "duration": 5,
    "start_time": "2024-12-22T23:35:55.266Z"
   },
   {
    "duration": 10,
    "start_time": "2024-12-22T23:35:55.272Z"
   },
   {
    "duration": 3090,
    "start_time": "2024-12-22T23:35:55.283Z"
   },
   {
    "duration": 8,
    "start_time": "2024-12-22T23:35:58.375Z"
   },
   {
    "duration": 9,
    "start_time": "2024-12-22T23:35:58.385Z"
   },
   {
    "duration": 11,
    "start_time": "2024-12-22T23:35:58.395Z"
   },
   {
    "duration": 5,
    "start_time": "2024-12-22T23:35:58.407Z"
   },
   {
    "duration": 40,
    "start_time": "2024-12-22T23:35:58.413Z"
   },
   {
    "duration": 5,
    "start_time": "2024-12-22T23:35:58.455Z"
   },
   {
    "duration": 9,
    "start_time": "2024-12-22T23:35:58.462Z"
   },
   {
    "duration": 18,
    "start_time": "2024-12-22T23:35:58.472Z"
   },
   {
    "duration": 20,
    "start_time": "2024-12-22T23:35:58.491Z"
   },
   {
    "duration": 14,
    "start_time": "2024-12-22T23:35:58.512Z"
   },
   {
    "duration": 4,
    "start_time": "2024-12-22T23:35:58.528Z"
   },
   {
    "duration": 23,
    "start_time": "2024-12-22T23:35:58.533Z"
   },
   {
    "duration": 4,
    "start_time": "2024-12-22T23:35:58.557Z"
   },
   {
    "duration": 11,
    "start_time": "2024-12-22T23:35:58.562Z"
   },
   {
    "duration": 23,
    "start_time": "2024-12-22T23:35:58.575Z"
   },
   {
    "duration": 9,
    "start_time": "2024-12-22T23:35:58.599Z"
   },
   {
    "duration": 13,
    "start_time": "2024-12-22T23:35:58.613Z"
   },
   {
    "duration": 8,
    "start_time": "2024-12-22T23:35:58.627Z"
   },
   {
    "duration": 16,
    "start_time": "2024-12-22T23:35:58.636Z"
   },
   {
    "duration": 6,
    "start_time": "2024-12-22T23:35:58.654Z"
   },
   {
    "duration": 11,
    "start_time": "2024-12-22T23:35:58.662Z"
   },
   {
    "duration": 10,
    "start_time": "2024-12-22T23:35:58.674Z"
   },
   {
    "duration": 6,
    "start_time": "2024-12-22T23:35:58.685Z"
   },
   {
    "duration": 9,
    "start_time": "2024-12-22T23:35:58.692Z"
   },
   {
    "duration": 9,
    "start_time": "2024-12-22T23:35:58.702Z"
   },
   {
    "duration": 11,
    "start_time": "2024-12-22T23:35:58.713Z"
   },
   {
    "duration": 15,
    "start_time": "2024-12-23T00:16:54.305Z"
   },
   {
    "duration": 14,
    "start_time": "2024-12-23T00:18:30.045Z"
   },
   {
    "duration": 389,
    "start_time": "2024-12-23T00:20:51.055Z"
   },
   {
    "duration": 52,
    "start_time": "2024-12-23T00:20:51.446Z"
   },
   {
    "duration": 3,
    "start_time": "2024-12-23T00:20:52.125Z"
   },
   {
    "duration": 18,
    "start_time": "2024-12-23T00:20:53.169Z"
   },
   {
    "duration": 14,
    "start_time": "2024-12-23T00:20:53.681Z"
   },
   {
    "duration": 14,
    "start_time": "2024-12-23T00:20:53.951Z"
   },
   {
    "duration": 3,
    "start_time": "2024-12-23T00:20:54.286Z"
   },
   {
    "duration": 4,
    "start_time": "2024-12-23T00:20:56.905Z"
   },
   {
    "duration": 4,
    "start_time": "2024-12-23T00:20:57.265Z"
   },
   {
    "duration": 4,
    "start_time": "2024-12-23T00:20:57.691Z"
   },
   {
    "duration": 6,
    "start_time": "2024-12-23T00:20:59.920Z"
   },
   {
    "duration": 4,
    "start_time": "2024-12-23T00:21:00.290Z"
   },
   {
    "duration": 10,
    "start_time": "2024-12-23T00:21:01.774Z"
   },
   {
    "duration": 13,
    "start_time": "2024-12-23T00:21:03.605Z"
   },
   {
    "duration": 4,
    "start_time": "2024-12-23T00:21:04.652Z"
   },
   {
    "duration": 252,
    "start_time": "2024-12-23T00:21:06.695Z"
   },
   {
    "duration": 15,
    "start_time": "2024-12-23T00:21:24.481Z"
   },
   {
    "duration": 14,
    "start_time": "2024-12-23T00:23:10.648Z"
   },
   {
    "duration": 14,
    "start_time": "2024-12-23T00:23:15.111Z"
   },
   {
    "duration": 14,
    "start_time": "2024-12-23T00:23:21.318Z"
   },
   {
    "duration": 364,
    "start_time": "2024-12-23T00:54:54.108Z"
   },
   {
    "duration": 54,
    "start_time": "2024-12-23T00:54:54.474Z"
   },
   {
    "duration": 4,
    "start_time": "2024-12-23T00:54:54.529Z"
   },
   {
    "duration": 58,
    "start_time": "2024-12-23T00:54:54.534Z"
   },
   {
    "duration": 13,
    "start_time": "2024-12-23T00:54:54.594Z"
   },
   {
    "duration": 11,
    "start_time": "2024-12-23T00:54:54.608Z"
   },
   {
    "duration": 21,
    "start_time": "2024-12-23T00:54:54.621Z"
   },
   {
    "duration": 14,
    "start_time": "2024-12-23T00:54:54.643Z"
   },
   {
    "duration": 5,
    "start_time": "2024-12-23T00:54:54.658Z"
   },
   {
    "duration": 10,
    "start_time": "2024-12-23T00:54:54.664Z"
   },
   {
    "duration": 17,
    "start_time": "2024-12-23T00:54:54.675Z"
   },
   {
    "duration": 5,
    "start_time": "2024-12-23T00:54:54.694Z"
   },
   {
    "duration": 14,
    "start_time": "2024-12-23T00:54:54.700Z"
   },
   {
    "duration": 16,
    "start_time": "2024-12-23T00:54:54.715Z"
   },
   {
    "duration": 3,
    "start_time": "2024-12-23T00:54:54.733Z"
   },
   {
    "duration": 261,
    "start_time": "2024-12-23T00:54:54.737Z"
   },
   {
    "duration": 15,
    "start_time": "2024-12-23T00:54:55.000Z"
   },
   {
    "duration": 15,
    "start_time": "2024-12-23T00:54:55.016Z"
   },
   {
    "duration": 33,
    "start_time": "2024-12-23T00:54:55.032Z"
   },
   {
    "duration": 8,
    "start_time": "2024-12-23T00:54:55.066Z"
   },
   {
    "duration": 2,
    "start_time": "2024-12-23T00:54:55.075Z"
   },
   {
    "duration": 5,
    "start_time": "2024-12-23T00:54:55.078Z"
   },
   {
    "duration": 6,
    "start_time": "2024-12-23T00:54:55.084Z"
   },
   {
    "duration": 3010,
    "start_time": "2024-12-23T00:54:55.091Z"
   },
   {
    "duration": 9,
    "start_time": "2024-12-23T00:54:58.103Z"
   },
   {
    "duration": 10,
    "start_time": "2024-12-23T00:54:58.113Z"
   },
   {
    "duration": 11,
    "start_time": "2024-12-23T00:54:58.124Z"
   },
   {
    "duration": 17,
    "start_time": "2024-12-23T00:54:58.137Z"
   },
   {
    "duration": 38,
    "start_time": "2024-12-23T00:54:58.155Z"
   },
   {
    "duration": 4,
    "start_time": "2024-12-23T00:54:58.195Z"
   },
   {
    "duration": 12,
    "start_time": "2024-12-23T00:54:58.200Z"
   },
   {
    "duration": 16,
    "start_time": "2024-12-23T00:54:58.214Z"
   },
   {
    "duration": 4,
    "start_time": "2024-12-23T00:54:58.231Z"
   },
   {
    "duration": 19,
    "start_time": "2024-12-23T00:54:58.236Z"
   },
   {
    "duration": 2,
    "start_time": "2024-12-23T00:54:58.257Z"
   },
   {
    "duration": 14,
    "start_time": "2024-12-23T00:54:58.260Z"
   },
   {
    "duration": 8,
    "start_time": "2024-12-23T00:54:58.276Z"
   },
   {
    "duration": 9,
    "start_time": "2024-12-23T00:54:58.286Z"
   },
   {
    "duration": 9,
    "start_time": "2024-12-23T00:54:58.296Z"
   },
   {
    "duration": 8,
    "start_time": "2024-12-23T00:54:58.306Z"
   },
   {
    "duration": 4,
    "start_time": "2024-12-23T00:54:58.315Z"
   },
   {
    "duration": 22,
    "start_time": "2024-12-23T00:54:58.320Z"
   },
   {
    "duration": 14,
    "start_time": "2024-12-23T00:54:58.343Z"
   },
   {
    "duration": 20,
    "start_time": "2024-12-23T00:54:58.359Z"
   },
   {
    "duration": 13,
    "start_time": "2024-12-23T00:54:58.381Z"
   },
   {
    "duration": 56,
    "start_time": "2024-12-23T00:54:58.396Z"
   },
   {
    "duration": 8,
    "start_time": "2024-12-23T00:54:58.453Z"
   },
   {
    "duration": 6,
    "start_time": "2024-12-23T00:54:58.462Z"
   },
   {
    "duration": 9,
    "start_time": "2024-12-23T00:54:58.469Z"
   },
   {
    "duration": 6,
    "start_time": "2024-12-23T00:54:58.479Z"
   },
   {
    "duration": 411,
    "start_time": "2024-12-23T02:09:22.831Z"
   },
   {
    "duration": 52,
    "start_time": "2024-12-23T02:09:23.244Z"
   },
   {
    "duration": 3,
    "start_time": "2024-12-23T02:09:23.298Z"
   },
   {
    "duration": 32,
    "start_time": "2024-12-23T02:09:23.302Z"
   },
   {
    "duration": 14,
    "start_time": "2024-12-23T02:09:23.335Z"
   },
   {
    "duration": 13,
    "start_time": "2024-12-23T02:09:23.350Z"
   },
   {
    "duration": 3,
    "start_time": "2024-12-23T02:09:23.364Z"
   },
   {
    "duration": 4,
    "start_time": "2024-12-23T02:09:23.368Z"
   },
   {
    "duration": 4,
    "start_time": "2024-12-23T02:09:23.373Z"
   },
   {
    "duration": 15,
    "start_time": "2024-12-23T02:09:23.378Z"
   },
   {
    "duration": 23,
    "start_time": "2024-12-23T02:09:23.394Z"
   },
   {
    "duration": 5,
    "start_time": "2024-12-23T02:09:23.418Z"
   },
   {
    "duration": 9,
    "start_time": "2024-12-23T02:09:23.424Z"
   },
   {
    "duration": 34,
    "start_time": "2024-12-23T02:09:23.437Z"
   },
   {
    "duration": 22,
    "start_time": "2024-12-23T02:09:23.473Z"
   },
   {
    "duration": 284,
    "start_time": "2024-12-23T02:09:23.496Z"
   },
   {
    "duration": 14,
    "start_time": "2024-12-23T02:09:23.781Z"
   },
   {
    "duration": 14,
    "start_time": "2024-12-23T02:09:23.797Z"
   },
   {
    "duration": 15,
    "start_time": "2024-12-23T02:09:23.812Z"
   },
   {
    "duration": 29,
    "start_time": "2024-12-23T02:09:23.829Z"
   },
   {
    "duration": 5,
    "start_time": "2024-12-23T02:09:23.859Z"
   },
   {
    "duration": 22,
    "start_time": "2024-12-23T02:09:23.865Z"
   },
   {
    "duration": 12,
    "start_time": "2024-12-23T02:09:23.891Z"
   },
   {
    "duration": 3110,
    "start_time": "2024-12-23T02:09:23.905Z"
   },
   {
    "duration": 9,
    "start_time": "2024-12-23T02:09:27.016Z"
   },
   {
    "duration": 4,
    "start_time": "2024-12-23T02:09:27.027Z"
   },
   {
    "duration": 24,
    "start_time": "2024-12-23T02:09:27.033Z"
   },
   {
    "duration": 4,
    "start_time": "2024-12-23T02:09:27.059Z"
   },
   {
    "duration": 22,
    "start_time": "2024-12-23T02:09:27.065Z"
   },
   {
    "duration": 4,
    "start_time": "2024-12-23T02:09:27.088Z"
   },
   {
    "duration": 24,
    "start_time": "2024-12-23T02:09:27.093Z"
   },
   {
    "duration": 26,
    "start_time": "2024-12-23T02:09:27.118Z"
   },
   {
    "duration": 5,
    "start_time": "2024-12-23T02:09:27.145Z"
   },
   {
    "duration": 12,
    "start_time": "2024-12-23T02:09:27.151Z"
   },
   {
    "duration": 8,
    "start_time": "2024-12-23T02:09:27.164Z"
   },
   {
    "duration": 28,
    "start_time": "2024-12-23T02:09:27.173Z"
   },
   {
    "duration": 21,
    "start_time": "2024-12-23T02:09:27.202Z"
   },
   {
    "duration": 25,
    "start_time": "2024-12-23T02:09:27.224Z"
   },
   {
    "duration": 10,
    "start_time": "2024-12-23T02:09:27.251Z"
   },
   {
    "duration": 28,
    "start_time": "2024-12-23T02:09:27.262Z"
   },
   {
    "duration": 17,
    "start_time": "2024-12-23T02:09:27.294Z"
   },
   {
    "duration": 13,
    "start_time": "2024-12-23T02:09:27.312Z"
   },
   {
    "duration": 8,
    "start_time": "2024-12-23T02:09:27.326Z"
   },
   {
    "duration": 15,
    "start_time": "2024-12-23T02:09:27.335Z"
   },
   {
    "duration": 11,
    "start_time": "2024-12-23T02:09:27.351Z"
   },
   {
    "duration": 12,
    "start_time": "2024-12-23T02:09:27.363Z"
   },
   {
    "duration": 11,
    "start_time": "2024-12-23T02:09:27.376Z"
   },
   {
    "duration": 7,
    "start_time": "2024-12-23T02:09:27.388Z"
   },
   {
    "duration": 89,
    "start_time": "2024-12-23T02:09:27.397Z"
   },
   {
    "duration": 0,
    "start_time": "2024-12-23T02:09:27.488Z"
   },
   {
    "duration": 7,
    "start_time": "2024-12-23T02:09:46.333Z"
   },
   {
    "duration": 7,
    "start_time": "2024-12-23T02:09:48.991Z"
   },
   {
    "duration": 358,
    "start_time": "2024-12-23T02:09:55.088Z"
   },
   {
    "duration": 51,
    "start_time": "2024-12-23T02:09:55.448Z"
   },
   {
    "duration": 3,
    "start_time": "2024-12-23T02:09:55.500Z"
   },
   {
    "duration": 22,
    "start_time": "2024-12-23T02:09:55.504Z"
   },
   {
    "duration": 15,
    "start_time": "2024-12-23T02:09:55.528Z"
   },
   {
    "duration": 9,
    "start_time": "2024-12-23T02:09:55.544Z"
   },
   {
    "duration": 7,
    "start_time": "2024-12-23T02:09:55.554Z"
   },
   {
    "duration": 4,
    "start_time": "2024-12-23T02:09:55.563Z"
   },
   {
    "duration": 23,
    "start_time": "2024-12-23T02:09:55.568Z"
   },
   {
    "duration": 19,
    "start_time": "2024-12-23T02:09:55.592Z"
   },
   {
    "duration": 17,
    "start_time": "2024-12-23T02:09:55.613Z"
   },
   {
    "duration": 41,
    "start_time": "2024-12-23T02:09:55.631Z"
   },
   {
    "duration": 20,
    "start_time": "2024-12-23T02:09:55.673Z"
   },
   {
    "duration": 23,
    "start_time": "2024-12-23T02:09:55.696Z"
   },
   {
    "duration": 16,
    "start_time": "2024-12-23T02:09:55.720Z"
   },
   {
    "duration": 261,
    "start_time": "2024-12-23T02:09:55.737Z"
   },
   {
    "duration": 13,
    "start_time": "2024-12-23T02:09:56.000Z"
   },
   {
    "duration": 14,
    "start_time": "2024-12-23T02:09:56.015Z"
   },
   {
    "duration": 33,
    "start_time": "2024-12-23T02:09:56.031Z"
   },
   {
    "duration": 9,
    "start_time": "2024-12-23T02:09:56.065Z"
   },
   {
    "duration": 16,
    "start_time": "2024-12-23T02:09:56.075Z"
   },
   {
    "duration": 6,
    "start_time": "2024-12-23T02:09:56.092Z"
   },
   {
    "duration": 8,
    "start_time": "2024-12-23T02:09:56.099Z"
   },
   {
    "duration": 3051,
    "start_time": "2024-12-23T02:09:56.108Z"
   },
   {
    "duration": 9,
    "start_time": "2024-12-23T02:09:59.161Z"
   },
   {
    "duration": 4,
    "start_time": "2024-12-23T02:09:59.171Z"
   },
   {
    "duration": 11,
    "start_time": "2024-12-23T02:09:59.177Z"
   },
   {
    "duration": 4,
    "start_time": "2024-12-23T02:09:59.189Z"
   },
   {
    "duration": 15,
    "start_time": "2024-12-23T02:09:59.194Z"
   },
   {
    "duration": 4,
    "start_time": "2024-12-23T02:09:59.210Z"
   },
   {
    "duration": 41,
    "start_time": "2024-12-23T02:09:59.215Z"
   },
   {
    "duration": 26,
    "start_time": "2024-12-23T02:09:59.257Z"
   },
   {
    "duration": 4,
    "start_time": "2024-12-23T02:09:59.284Z"
   },
   {
    "duration": 18,
    "start_time": "2024-12-23T02:09:59.289Z"
   },
   {
    "duration": 2,
    "start_time": "2024-12-23T02:09:59.309Z"
   },
   {
    "duration": 16,
    "start_time": "2024-12-23T02:09:59.312Z"
   },
   {
    "duration": 5,
    "start_time": "2024-12-23T02:09:59.329Z"
   },
   {
    "duration": 11,
    "start_time": "2024-12-23T02:09:59.335Z"
   },
   {
    "duration": 3,
    "start_time": "2024-12-23T02:09:59.353Z"
   },
   {
    "duration": 10,
    "start_time": "2024-12-23T02:09:59.357Z"
   },
   {
    "duration": 3,
    "start_time": "2024-12-23T02:09:59.371Z"
   },
   {
    "duration": 12,
    "start_time": "2024-12-23T02:09:59.375Z"
   },
   {
    "duration": 15,
    "start_time": "2024-12-23T02:09:59.388Z"
   },
   {
    "duration": 20,
    "start_time": "2024-12-23T02:09:59.404Z"
   },
   {
    "duration": 8,
    "start_time": "2024-12-23T02:09:59.425Z"
   },
   {
    "duration": 19,
    "start_time": "2024-12-23T02:09:59.434Z"
   },
   {
    "duration": 15,
    "start_time": "2024-12-23T02:09:59.454Z"
   },
   {
    "duration": 14,
    "start_time": "2024-12-23T02:09:59.470Z"
   },
   {
    "duration": 21,
    "start_time": "2024-12-23T02:09:59.486Z"
   },
   {
    "duration": 6,
    "start_time": "2024-12-23T02:09:59.508Z"
   },
   {
    "duration": 393,
    "start_time": "2024-12-23T02:10:07.349Z"
   },
   {
    "duration": 50,
    "start_time": "2024-12-23T02:10:07.744Z"
   },
   {
    "duration": 2,
    "start_time": "2024-12-23T02:10:07.796Z"
   },
   {
    "duration": 36,
    "start_time": "2024-12-23T02:10:07.800Z"
   },
   {
    "duration": 14,
    "start_time": "2024-12-23T02:10:07.838Z"
   },
   {
    "duration": 8,
    "start_time": "2024-12-23T02:10:07.853Z"
   },
   {
    "duration": 3,
    "start_time": "2024-12-23T02:10:07.862Z"
   },
   {
    "duration": 5,
    "start_time": "2024-12-23T02:10:07.866Z"
   },
   {
    "duration": 8,
    "start_time": "2024-12-23T02:10:07.872Z"
   },
   {
    "duration": 7,
    "start_time": "2024-12-23T02:10:07.881Z"
   },
   {
    "duration": 6,
    "start_time": "2024-12-23T02:10:07.889Z"
   },
   {
    "duration": 4,
    "start_time": "2024-12-23T02:10:07.896Z"
   },
   {
    "duration": 9,
    "start_time": "2024-12-23T02:10:07.902Z"
   },
   {
    "duration": 45,
    "start_time": "2024-12-23T02:10:07.914Z"
   },
   {
    "duration": 4,
    "start_time": "2024-12-23T02:10:07.961Z"
   },
   {
    "duration": 260,
    "start_time": "2024-12-23T02:10:07.966Z"
   },
   {
    "duration": 14,
    "start_time": "2024-12-23T02:10:08.228Z"
   },
   {
    "duration": 21,
    "start_time": "2024-12-23T02:10:08.243Z"
   },
   {
    "duration": 16,
    "start_time": "2024-12-23T02:10:08.265Z"
   },
   {
    "duration": 8,
    "start_time": "2024-12-23T02:10:08.282Z"
   },
   {
    "duration": 14,
    "start_time": "2024-12-23T02:10:08.291Z"
   },
   {
    "duration": 5,
    "start_time": "2024-12-23T02:10:08.306Z"
   },
   {
    "duration": 3,
    "start_time": "2024-12-23T02:10:08.312Z"
   },
   {
    "duration": 3074,
    "start_time": "2024-12-23T02:10:08.317Z"
   },
   {
    "duration": 9,
    "start_time": "2024-12-23T02:10:11.392Z"
   },
   {
    "duration": 6,
    "start_time": "2024-12-23T02:10:11.403Z"
   },
   {
    "duration": 9,
    "start_time": "2024-12-23T02:10:11.410Z"
   },
   {
    "duration": 4,
    "start_time": "2024-12-23T02:10:11.420Z"
   },
   {
    "duration": 35,
    "start_time": "2024-12-23T02:10:11.425Z"
   },
   {
    "duration": 5,
    "start_time": "2024-12-23T02:10:11.461Z"
   },
   {
    "duration": 18,
    "start_time": "2024-12-23T02:10:11.468Z"
   },
   {
    "duration": 16,
    "start_time": "2024-12-23T02:10:11.488Z"
   },
   {
    "duration": 5,
    "start_time": "2024-12-23T02:10:11.506Z"
   },
   {
    "duration": 20,
    "start_time": "2024-12-23T02:10:11.512Z"
   },
   {
    "duration": 3,
    "start_time": "2024-12-23T02:10:11.534Z"
   },
   {
    "duration": 17,
    "start_time": "2024-12-23T02:10:11.553Z"
   },
   {
    "duration": 5,
    "start_time": "2024-12-23T02:10:11.572Z"
   },
   {
    "duration": 9,
    "start_time": "2024-12-23T02:10:11.578Z"
   },
   {
    "duration": 18,
    "start_time": "2024-12-23T02:10:11.588Z"
   },
   {
    "duration": 6,
    "start_time": "2024-12-23T02:10:11.608Z"
   },
   {
    "duration": 4,
    "start_time": "2024-12-23T02:10:11.618Z"
   },
   {
    "duration": 30,
    "start_time": "2024-12-23T02:10:11.623Z"
   },
   {
    "duration": 9,
    "start_time": "2024-12-23T02:10:11.654Z"
   },
   {
    "duration": 10,
    "start_time": "2024-12-23T02:10:11.664Z"
   },
   {
    "duration": 7,
    "start_time": "2024-12-23T02:10:11.675Z"
   },
   {
    "duration": 12,
    "start_time": "2024-12-23T02:10:11.683Z"
   },
   {
    "duration": 6,
    "start_time": "2024-12-23T02:10:11.696Z"
   },
   {
    "duration": 7,
    "start_time": "2024-12-23T02:10:11.703Z"
   },
   {
    "duration": 44,
    "start_time": "2024-12-23T02:10:11.711Z"
   },
   {
    "duration": 8,
    "start_time": "2024-12-23T02:10:11.757Z"
   },
   {
    "duration": 376,
    "start_time": "2024-12-23T10:58:53.319Z"
   },
   {
    "duration": 199,
    "start_time": "2024-12-23T10:58:53.697Z"
   },
   {
    "duration": 4,
    "start_time": "2024-12-23T10:58:53.897Z"
   },
   {
    "duration": 104,
    "start_time": "2024-12-23T10:58:53.902Z"
   },
   {
    "duration": 16,
    "start_time": "2024-12-23T10:58:54.008Z"
   },
   {
    "duration": 13,
    "start_time": "2024-12-23T10:58:54.026Z"
   },
   {
    "duration": 14,
    "start_time": "2024-12-23T10:58:54.040Z"
   },
   {
    "duration": 11,
    "start_time": "2024-12-23T10:58:54.056Z"
   },
   {
    "duration": 36,
    "start_time": "2024-12-23T10:58:54.068Z"
   },
   {
    "duration": 16,
    "start_time": "2024-12-23T10:58:54.106Z"
   },
   {
    "duration": 45,
    "start_time": "2024-12-23T10:58:54.124Z"
   },
   {
    "duration": 21,
    "start_time": "2024-12-23T10:58:54.171Z"
   },
   {
    "duration": 109,
    "start_time": "2024-12-23T10:58:54.250Z"
   },
   {
    "duration": 467,
    "start_time": "2024-12-23T10:58:54.361Z"
   },
   {
    "duration": 17,
    "start_time": "2024-12-23T10:58:54.829Z"
   },
   {
    "duration": 121,
    "start_time": "2024-12-23T10:58:54.848Z"
   },
   {
    "duration": 20,
    "start_time": "2024-12-23T10:58:54.971Z"
   },
   {
    "duration": 9,
    "start_time": "2024-12-23T10:58:54.993Z"
   },
   {
    "duration": 6,
    "start_time": "2024-12-23T10:58:55.004Z"
   },
   {
    "duration": 27,
    "start_time": "2024-12-23T10:58:55.011Z"
   },
   {
    "duration": 26,
    "start_time": "2024-12-23T10:58:55.040Z"
   },
   {
    "duration": 4230,
    "start_time": "2024-12-23T10:58:55.068Z"
   },
   {
    "duration": 9,
    "start_time": "2024-12-23T10:58:59.300Z"
   },
   {
    "duration": 19,
    "start_time": "2024-12-23T10:58:59.311Z"
   },
   {
    "duration": 17,
    "start_time": "2024-12-23T10:58:59.331Z"
   },
   {
    "duration": 11,
    "start_time": "2024-12-23T10:58:59.350Z"
   },
   {
    "duration": 16,
    "start_time": "2024-12-23T10:58:59.363Z"
   },
   {
    "duration": 5,
    "start_time": "2024-12-23T10:58:59.381Z"
   },
   {
    "duration": 6,
    "start_time": "2024-12-23T10:58:59.387Z"
   },
   {
    "duration": 23,
    "start_time": "2024-12-23T10:58:59.395Z"
   },
   {
    "duration": 5,
    "start_time": "2024-12-23T10:58:59.420Z"
   },
   {
    "duration": 37,
    "start_time": "2024-12-23T10:58:59.427Z"
   },
   {
    "duration": 3,
    "start_time": "2024-12-23T10:58:59.471Z"
   },
   {
    "duration": 24,
    "start_time": "2024-12-23T10:58:59.475Z"
   },
   {
    "duration": 6,
    "start_time": "2024-12-23T10:58:59.501Z"
   },
   {
    "duration": 16,
    "start_time": "2024-12-23T10:58:59.508Z"
   },
   {
    "duration": 6,
    "start_time": "2024-12-23T10:58:59.525Z"
   },
   {
    "duration": 6,
    "start_time": "2024-12-23T10:58:59.533Z"
   },
   {
    "duration": 27,
    "start_time": "2024-12-23T10:58:59.543Z"
   },
   {
    "duration": 14,
    "start_time": "2024-12-23T10:58:59.572Z"
   },
   {
    "duration": 17,
    "start_time": "2024-12-23T10:58:59.588Z"
   },
   {
    "duration": 18,
    "start_time": "2024-12-23T10:58:59.607Z"
   },
   {
    "duration": 25,
    "start_time": "2024-12-23T10:58:59.627Z"
   },
   {
    "duration": 25,
    "start_time": "2024-12-23T10:58:59.654Z"
   },
   {
    "duration": 8,
    "start_time": "2024-12-23T10:58:59.681Z"
   },
   {
    "duration": 8,
    "start_time": "2024-12-23T10:58:59.691Z"
   },
   {
    "duration": 11,
    "start_time": "2024-12-23T10:58:59.702Z"
   },
   {
    "duration": 7,
    "start_time": "2024-12-23T10:58:59.715Z"
   },
   {
    "duration": 426,
    "start_time": "2024-12-23T11:02:02.179Z"
   },
   {
    "duration": 57,
    "start_time": "2024-12-23T11:02:02.607Z"
   },
   {
    "duration": 4,
    "start_time": "2024-12-23T11:02:02.665Z"
   },
   {
    "duration": 27,
    "start_time": "2024-12-23T11:02:02.670Z"
   },
   {
    "duration": 33,
    "start_time": "2024-12-23T11:02:02.699Z"
   },
   {
    "duration": 57,
    "start_time": "2024-12-23T11:02:02.733Z"
   },
   {
    "duration": 154,
    "start_time": "2024-12-23T11:02:02.792Z"
   },
   {
    "duration": 13,
    "start_time": "2024-12-23T11:02:02.948Z"
   },
   {
    "duration": 4,
    "start_time": "2024-12-23T11:02:02.963Z"
   },
   {
    "duration": 8,
    "start_time": "2024-12-23T11:02:02.969Z"
   },
   {
    "duration": 21,
    "start_time": "2024-12-23T11:02:02.979Z"
   },
   {
    "duration": 30,
    "start_time": "2024-12-23T11:02:03.001Z"
   },
   {
    "duration": 37,
    "start_time": "2024-12-23T11:02:03.032Z"
   },
   {
    "duration": 21,
    "start_time": "2024-12-23T11:02:03.073Z"
   },
   {
    "duration": 5,
    "start_time": "2024-12-23T11:02:03.095Z"
   },
   {
    "duration": 332,
    "start_time": "2024-12-23T11:02:03.102Z"
   },
   {
    "duration": 17,
    "start_time": "2024-12-23T11:02:03.436Z"
   },
   {
    "duration": 30,
    "start_time": "2024-12-23T11:02:03.454Z"
   },
   {
    "duration": 20,
    "start_time": "2024-12-23T11:02:03.485Z"
   },
   {
    "duration": 12,
    "start_time": "2024-12-23T11:02:03.506Z"
   },
   {
    "duration": 17,
    "start_time": "2024-12-23T11:02:03.519Z"
   },
   {
    "duration": 22,
    "start_time": "2024-12-23T11:02:03.538Z"
   },
   {
    "duration": 11,
    "start_time": "2024-12-23T11:02:03.562Z"
   },
   {
    "duration": 4398,
    "start_time": "2024-12-23T11:02:03.574Z"
   },
   {
    "duration": 10,
    "start_time": "2024-12-23T11:02:07.974Z"
   },
   {
    "duration": 36,
    "start_time": "2024-12-23T11:02:07.986Z"
   },
   {
    "duration": 20,
    "start_time": "2024-12-23T11:02:08.023Z"
   },
   {
    "duration": 8,
    "start_time": "2024-12-23T11:02:08.045Z"
   },
   {
    "duration": 17,
    "start_time": "2024-12-23T11:02:08.055Z"
   },
   {
    "duration": 7,
    "start_time": "2024-12-23T11:02:08.074Z"
   },
   {
    "duration": 9,
    "start_time": "2024-12-23T11:02:08.083Z"
   },
   {
    "duration": 22,
    "start_time": "2024-12-23T11:02:08.094Z"
   },
   {
    "duration": 8,
    "start_time": "2024-12-23T11:02:08.118Z"
   },
   {
    "duration": 42,
    "start_time": "2024-12-23T11:02:08.128Z"
   },
   {
    "duration": 4,
    "start_time": "2024-12-23T11:02:08.172Z"
   },
   {
    "duration": 20,
    "start_time": "2024-12-23T11:02:08.177Z"
   },
   {
    "duration": 6,
    "start_time": "2024-12-23T11:02:08.199Z"
   },
   {
    "duration": 10,
    "start_time": "2024-12-23T11:02:08.207Z"
   },
   {
    "duration": 17,
    "start_time": "2024-12-23T11:02:08.219Z"
   },
   {
    "duration": 10,
    "start_time": "2024-12-23T11:02:08.238Z"
   },
   {
    "duration": 20,
    "start_time": "2024-12-23T11:02:08.251Z"
   },
   {
    "duration": 100,
    "start_time": "2024-12-23T11:02:08.273Z"
   },
   {
    "duration": 26,
    "start_time": "2024-12-23T11:02:08.375Z"
   },
   {
    "duration": 17,
    "start_time": "2024-12-23T11:02:08.402Z"
   },
   {
    "duration": 9,
    "start_time": "2024-12-23T11:02:08.420Z"
   },
   {
    "duration": 13,
    "start_time": "2024-12-23T11:02:08.431Z"
   },
   {
    "duration": 15,
    "start_time": "2024-12-23T11:02:08.446Z"
   },
   {
    "duration": 14,
    "start_time": "2024-12-23T11:02:08.463Z"
   },
   {
    "duration": 25,
    "start_time": "2024-12-23T11:02:08.479Z"
   },
   {
    "duration": 8,
    "start_time": "2024-12-23T11:02:08.506Z"
   }
  ],
  "colab": {
   "provenance": []
  },
  "kernelspec": {
   "display_name": "Python 3 (ipykernel)",
   "language": "python",
   "name": "python3"
  },
  "language_info": {
   "codemirror_mode": {
    "name": "ipython",
    "version": 3
   },
   "file_extension": ".py",
   "mimetype": "text/x-python",
   "name": "python",
   "nbconvert_exporter": "python",
   "pygments_lexer": "ipython3",
   "version": "3.12.4"
  },
  "toc": {
   "base_numbering": 1,
   "nav_menu": {},
   "number_sections": true,
   "sideBar": true,
   "skip_h1_title": true,
   "title_cell": "Table of Contents",
   "title_sidebar": "Contents",
   "toc_cell": false,
   "toc_position": {
    "height": "calc(100% - 180px)",
    "left": "10px",
    "top": "150px",
    "width": "177.943px"
   },
   "toc_section_display": true,
   "toc_window_display": false
  }
 },
 "nbformat": 4,
 "nbformat_minor": 5
}
